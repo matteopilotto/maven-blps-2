{
 "cells": [
  {
   "cell_type": "markdown",
   "id": "68ef64d3-d764-46bb-84b8-76a44a8002b0",
   "metadata": {},
   "source": [
    "# Tripadvisor Miami Hotel Reviews ✈️🏨🌴"
   ]
  },
  {
   "cell_type": "markdown",
   "id": "dc5498eb-e86d-4e30-9ddc-dbec875f860b",
   "metadata": {},
   "source": [
    "## Setup"
   ]
  },
  {
   "cell_type": "code",
   "execution_count": 1,
   "id": "1093bdc9-a510-41eb-8cd2-453542c56826",
   "metadata": {},
   "outputs": [
    {
     "name": "stdout",
     "output_type": "stream",
     "text": [
      "\u001b[33mWARNING: Running pip as the 'root' user can result in broken permissions and conflicting behaviour with the system package manager. It is recommended to use a virtual environment instead: https://pip.pypa.io/warnings/venv\u001b[0m\u001b[33m\n",
      "\u001b[0m\n",
      "\u001b[1m[\u001b[0m\u001b[34;49mnotice\u001b[0m\u001b[1;39;49m]\u001b[0m\u001b[39;49m A new release of pip is available: \u001b[0m\u001b[31;49m23.1.2\u001b[0m\u001b[39;49m -> \u001b[0m\u001b[32;49m23.2.1\u001b[0m\n",
      "\u001b[1m[\u001b[0m\u001b[34;49mnotice\u001b[0m\u001b[1;39;49m]\u001b[0m\u001b[39;49m To update, run: \u001b[0m\u001b[32;49mpython -m pip install --upgrade pip\u001b[0m\n"
     ]
    }
   ],
   "source": [
    "!pip install -q -r requirements.txt"
   ]
  },
  {
   "cell_type": "code",
   "execution_count": 2,
   "id": "b2197291-3bb3-4385-aa91-7fdb202594a4",
   "metadata": {},
   "outputs": [],
   "source": [
    "import requests\n",
    "from bs4 import BeautifulSoup\n",
    "import pandas as pd\n",
    "from tqdm.notebook import tqdm\n",
    "import json\n",
    "import multiprocessing\n",
    "import os\n",
    "import re\n",
    "import pandasql as ps"
   ]
  },
  {
   "cell_type": "code",
   "execution_count": 3,
   "id": "2cdf64d7-4db5-40d5-a80c-ab06f202b308",
   "metadata": {},
   "outputs": [],
   "source": [
    "def flatten(l):\n",
    "    return [item for sublist in l if sublist is not None for item in sublist]\n",
    "\n",
    "\n",
    "def scrape_main(url):\n",
    "    headers = {'User-Agent': \"Mozilla/5.0\"}\n",
    "    url_base = \"https://www.tripadvisor.com/\"\n",
    "\n",
    "    page = requests.get(url, headers=headers)\n",
    "    soup = BeautifulSoup(page.content, \"html.parser\")\n",
    "    hotels_data = soup.find(\"div\", id=\"map_wc_dusty_bridge\")\n",
    "    json_str = hotels_data.find_all(\"div\")[1][\"data-hotels-data\"]\n",
    "    data = json.loads(json_str)\n",
    "    hotel_urls = [url_base + x[\"detailUrl\"] for x in data[\"hotels\"]]\n",
    "\n",
    "    return hotel_urls\n",
    "\n",
    "\n",
    "def get_review_count(soup):\n",
    "    review_count = soup.find(\"div\",  class_=\"jVDab o W f u w GOdjs\").find(\"span\", \"biGQs _P pZUbB KxBGd\").text\n",
    "    review_count = int(re.sub(\"[^0-9]\", \"\", review_count))\n",
    "    return review_count \n",
    "\n",
    "\n",
    "def get_address(soup):\n",
    "    address = soup.find(\"div\",  class_=\"gZwVG H3 f u ERCyA\").find(\"span\", \"biGQs _P pZUbB KxBGd\").text    \n",
    "    return address\n",
    "\n",
    "\n",
    "def get_rank(soup):\n",
    "    rank_str = soup.find(\"div\",  class_=\"biGQs _P pZUbB KxBGd\").text\n",
    "    return rank_str\n",
    "\n",
    "\n",
    "def get_category(x):\n",
    "    category = re.findall(r\"[a-zA-Z\\s]+(?= in Miami)\", x)[0].strip()\n",
    "    return category\n",
    "\n",
    "\n",
    "def scrape_hotel_info(url):\n",
    "    headers = {'User-Agent': \"Mozilla/5.0\"}\n",
    "    \n",
    "    try:\n",
    "        page = requests.get(url, headers=headers)\n",
    "        soup = BeautifulSoup(page.content, \"html.parser\")\n",
    "        hotel_html = soup.find_all(\"div\",  class_=\"fIrGe _T\")\n",
    "        top_reviews = [x.text for x in soup.find_all(\"span\",  class_=\"QewHA H4 _a\")]\n",
    "        description = hotel_html[0].text\n",
    "        name = soup.find(\"h1\", id=\"HEADING\").text\n",
    "        review_count = get_review_count(soup)\n",
    "        address = get_address(soup)\n",
    "        score = soup.find(\"span\", class_=\"uwJeR P\").text\n",
    "        rank_str = get_rank(soup)\n",
    "        category = get_category(rank_str)\n",
    "        rows = [{\n",
    "            \"name\": name,\n",
    "            \"category\": category,\n",
    "            \"address\": address, \n",
    "            \"description\": description,\n",
    "            \"score\": score,\n",
    "            \"rank_str\": rank_str,\n",
    "            \"review\": x,\n",
    "            \"review_count\": review_count,\n",
    "            \"url\": url\n",
    "        } for x in top_reviews]\n",
    "            \n",
    "        return rows\n",
    "        \n",
    "    except:\n",
    "        pass"
   ]
  },
  {
   "cell_type": "markdown",
   "id": "09af6bd9-566d-46bc-994f-638665bb38f5",
   "metadata": {},
   "source": [
    "## Scrape hotel listing pages"
   ]
  },
  {
   "cell_type": "code",
   "execution_count": 4,
   "id": "880782df-d6e3-4490-a13c-6d78306c9515",
   "metadata": {},
   "outputs": [
    {
     "data": {
      "text/plain": [
       "['https://www.tripadvisor.com/Hotels-g34438-Miami_Florida-Hotels.html',\n",
       " 'https://www.tripadvisor.com/Hotels-g34438-oa30-Miami_Florida-Hotels.html',\n",
       " 'https://www.tripadvisor.com/Hotels-g34438-oa60-Miami_Florida-Hotels.html']"
      ]
     },
     "execution_count": 4,
     "metadata": {},
     "output_type": "execute_result"
    }
   ],
   "source": [
    "page_urls = (\n",
    "    [\"https://www.tripadvisor.com/Hotels-g34438-Miami_Florida-Hotels.html\"] + \\\n",
    "    [f\"https://www.tripadvisor.com/Hotels-g34438-oa{n}-Miami_Florida-Hotels.html\" for n in range(30, 1020, 30)]\n",
    ")\n",
    "\n",
    "page_urls[:3]"
   ]
  },
  {
   "cell_type": "code",
   "execution_count": 5,
   "id": "0115dad1-96a2-4251-958f-afc92baab4e9",
   "metadata": {},
   "outputs": [
    {
     "name": "stdout",
     "output_type": "stream",
     "text": [
      "CPU times: user 31.3 ms, sys: 179 ms, total: 210 ms\n",
      "Wall time: 8.07 s\n"
     ]
    }
   ],
   "source": [
    "%%time\n",
    "\n",
    "with multiprocessing.Pool(os.cpu_count()) as pool:\n",
    "    hotel_urls = pool.map(scrape_main, page_urls)\n",
    "\n",
    "hotel_urls = list(set(flatten(hotel_urls)))"
   ]
  },
  {
   "cell_type": "code",
   "execution_count": 6,
   "id": "3b282858-7946-4482-b99a-3e4b642b3fd1",
   "metadata": {},
   "outputs": [
    {
     "name": "stdout",
     "output_type": "stream",
     "text": [
      "Found unique 358 URLs\n",
      "Example URL: https://www.tripadvisor.com//Hotel_Review-g34438-d23657692-Reviews-Opera_Tower_Silvana-Miami_Florida.html\n"
     ]
    }
   ],
   "source": [
    "print(f\"Found unique {len(hotel_urls)} URLs\")\n",
    "print(f\"Example URL: {hotel_urls[0]}\")"
   ]
  },
  {
   "cell_type": "markdown",
   "id": "9f0ffb98-b13b-47f8-8ef3-74b02bbdc83d",
   "metadata": {},
   "source": [
    "## Scrape hotel information"
   ]
  },
  {
   "cell_type": "code",
   "execution_count": 7,
   "id": "338e214a-6420-4e5b-9604-8a79f114afc9",
   "metadata": {},
   "outputs": [
    {
     "name": "stdout",
     "output_type": "stream",
     "text": [
      "CPU times: user 163 ms, sys: 160 ms, total: 323 ms\n",
      "Wall time: 48.7 s\n"
     ]
    }
   ],
   "source": [
    "%%time\n",
    "\n",
    "with multiprocessing.Pool(os.cpu_count()) as pool:\n",
    "    hotel_info_list = pool.map(scrape_hotel_info, hotel_urls)\n",
    "\n",
    "hotel_info_list = flatten(hotel_info_list)"
   ]
  },
  {
   "cell_type": "code",
   "execution_count": 8,
   "id": "2df8dc20-47be-4e0b-896b-211254924fa8",
   "metadata": {},
   "outputs": [
    {
     "name": "stdout",
     "output_type": "stream",
     "text": [
      "Found 1713 reviews\n"
     ]
    }
   ],
   "source": [
    "print(f\"Found {len(hotel_info_list)} reviews\")"
   ]
  },
  {
   "cell_type": "markdown",
   "id": "0b7de1cf-1e46-4b30-8207-ea15ab966e90",
   "metadata": {},
   "source": [
    "## Create dataframe"
   ]
  },
  {
   "cell_type": "code",
   "execution_count": 9,
   "id": "95467d14-8f6d-44d0-84ae-fbfe3042b5b8",
   "metadata": {},
   "outputs": [
    {
     "name": "stdout",
     "output_type": "stream",
     "text": [
      "(1713, 9)\n"
     ]
    }
   ],
   "source": [
    "df = pd.DataFrame.from_dict(hotel_info_list)\n",
    "df = df.sample(frac=1, random_state=2077).reset_index(drop=True)\n",
    "\n",
    "print(df.shape)"
   ]
  },
  {
   "cell_type": "code",
   "execution_count": 10,
   "id": "120a2c14-8f06-4bc2-a526-096ec522cbc8",
   "metadata": {},
   "outputs": [
    {
     "data": {
      "text/html": [
       "<div>\n",
       "<style scoped>\n",
       "    .dataframe tbody tr th:only-of-type {\n",
       "        vertical-align: middle;\n",
       "    }\n",
       "\n",
       "    .dataframe tbody tr th {\n",
       "        vertical-align: top;\n",
       "    }\n",
       "\n",
       "    .dataframe thead th {\n",
       "        text-align: right;\n",
       "    }\n",
       "</style>\n",
       "<table border=\"1\" class=\"dataframe\">\n",
       "  <thead>\n",
       "    <tr style=\"text-align: right;\">\n",
       "      <th></th>\n",
       "      <th>name</th>\n",
       "      <th>category</th>\n",
       "      <th>address</th>\n",
       "      <th>description</th>\n",
       "      <th>score</th>\n",
       "      <th>rank_str</th>\n",
       "      <th>review</th>\n",
       "      <th>review_count</th>\n",
       "      <th>url</th>\n",
       "    </tr>\n",
       "  </thead>\n",
       "  <tbody>\n",
       "    <tr>\n",
       "      <th>0</th>\n",
       "      <td>Sentral Wynwood</td>\n",
       "      <td>hotels</td>\n",
       "      <td>51 NW 26th St, Miami, FL 33127</td>\n",
       "      <td>Sentral is transforming the travel experience ...</td>\n",
       "      <td>4.5</td>\n",
       "      <td>#60 of 155 hotels in Miami</td>\n",
       "      <td>I loved it here! Close to restaurants, shoppin...</td>\n",
       "      <td>87</td>\n",
       "      <td>https://www.tripadvisor.com//Hotel_Review-g344...</td>\n",
       "    </tr>\n",
       "    <tr>\n",
       "      <th>1</th>\n",
       "      <td>The Guild Downtown | X Miami</td>\n",
       "      <td>condos</td>\n",
       "      <td>230 NE 4th St, Miami, FL 33132-2231</td>\n",
       "      <td>The Guild is the hotel that combines the comfo...</td>\n",
       "      <td>4.0</td>\n",
       "      <td>#3 of 28 condos in Miami</td>\n",
       "      <td>I also received that email yesterday.  Was ver...</td>\n",
       "      <td>159</td>\n",
       "      <td>https://www.tripadvisor.com//Hotel_Review-g344...</td>\n",
       "    </tr>\n",
       "    <tr>\n",
       "      <th>2</th>\n",
       "      <td>Beautiful Spanish Residence in Coconut Grove</td>\n",
       "      <td>limited service properties</td>\n",
       "      <td>1757 Wa Kee NA Dr, Miami, FL 33133-2437</td>\n",
       "      <td>No se que tiene este lugar ,pero me siento com...</td>\n",
       "      <td>4.5</td>\n",
       "      <td>#7 of 18 limited service properties in Miami</td>\n",
       "      <td>What a gorgeous find! Our family of 5 stayed f...</td>\n",
       "      <td>4</td>\n",
       "      <td>https://www.tripadvisor.com//Hotel_Review-g344...</td>\n",
       "    </tr>\n",
       "    <tr>\n",
       "      <th>3</th>\n",
       "      <td>EVEN Hotel Miami - Airport, an IHG Hotel</td>\n",
       "      <td>hotels</td>\n",
       "      <td>3499 N.W. 25th Street, Miami, FL 33142</td>\n",
       "      <td>Modern Pet Friendly Hotel near Miami Internati...</td>\n",
       "      <td>4.0</td>\n",
       "      <td>#34 of 155 hotels in Miami</td>\n",
       "      <td>Everyone was very nice and helpful.  The room ...</td>\n",
       "      <td>461</td>\n",
       "      <td>https://www.tripadvisor.com//Hotel_Review-g344...</td>\n",
       "    </tr>\n",
       "    <tr>\n",
       "      <th>4</th>\n",
       "      <td>Mr. C Miami Coconut Grove</td>\n",
       "      <td>hotels</td>\n",
       "      <td>2988 McFarlane Rd, Miami, FL 33133-6011</td>\n",
       "      <td>From the illustrious fourth generation hospita...</td>\n",
       "      <td>4.5</td>\n",
       "      <td>#13 of 155 hotels in Miami</td>\n",
       "      <td>Relatively small hotel with 5-star service and...</td>\n",
       "      <td>413</td>\n",
       "      <td>https://www.tripadvisor.com//Hotel_Review-g344...</td>\n",
       "    </tr>\n",
       "  </tbody>\n",
       "</table>\n",
       "</div>"
      ],
      "text/plain": [
       "                                           name                    category  \\\n",
       "0                               Sentral Wynwood                      hotels   \n",
       "1                  The Guild Downtown | X Miami                      condos   \n",
       "2  Beautiful Spanish Residence in Coconut Grove  limited service properties   \n",
       "3      EVEN Hotel Miami - Airport, an IHG Hotel                      hotels   \n",
       "4                     Mr. C Miami Coconut Grove                      hotels   \n",
       "\n",
       "                                   address  \\\n",
       "0           51 NW 26th St, Miami, FL 33127   \n",
       "1      230 NE 4th St, Miami, FL 33132-2231   \n",
       "2  1757 Wa Kee NA Dr, Miami, FL 33133-2437   \n",
       "3   3499 N.W. 25th Street, Miami, FL 33142   \n",
       "4  2988 McFarlane Rd, Miami, FL 33133-6011   \n",
       "\n",
       "                                         description score  \\\n",
       "0  Sentral is transforming the travel experience ...   4.5   \n",
       "1  The Guild is the hotel that combines the comfo...   4.0   \n",
       "2  No se que tiene este lugar ,pero me siento com...   4.5   \n",
       "3  Modern Pet Friendly Hotel near Miami Internati...   4.0   \n",
       "4  From the illustrious fourth generation hospita...   4.5   \n",
       "\n",
       "                                       rank_str  \\\n",
       "0                    #60 of 155 hotels in Miami   \n",
       "1                      #3 of 28 condos in Miami   \n",
       "2  #7 of 18 limited service properties in Miami   \n",
       "3                    #34 of 155 hotels in Miami   \n",
       "4                    #13 of 155 hotels in Miami   \n",
       "\n",
       "                                              review  review_count  \\\n",
       "0  I loved it here! Close to restaurants, shoppin...            87   \n",
       "1  I also received that email yesterday.  Was ver...           159   \n",
       "2  What a gorgeous find! Our family of 5 stayed f...             4   \n",
       "3  Everyone was very nice and helpful.  The room ...           461   \n",
       "4  Relatively small hotel with 5-star service and...           413   \n",
       "\n",
       "                                                 url  \n",
       "0  https://www.tripadvisor.com//Hotel_Review-g344...  \n",
       "1  https://www.tripadvisor.com//Hotel_Review-g344...  \n",
       "2  https://www.tripadvisor.com//Hotel_Review-g344...  \n",
       "3  https://www.tripadvisor.com//Hotel_Review-g344...  \n",
       "4  https://www.tripadvisor.com//Hotel_Review-g344...  "
      ]
     },
     "execution_count": 10,
     "metadata": {},
     "output_type": "execute_result"
    }
   ],
   "source": [
    "df.head()"
   ]
  },
  {
   "cell_type": "code",
   "execution_count": 11,
   "id": "cc4c0fd3-af1e-4319-b2b1-4a46ca3d969a",
   "metadata": {},
   "outputs": [],
   "source": [
    "df.to_csv(\"./miami-hotel-reviews.csv\", index=False)"
   ]
  }
 ],
 "metadata": {
  "kernelspec": {
   "display_name": "Python 3 (ipykernel)",
   "language": "python",
   "name": "python3"
  },
  "language_info": {
   "codemirror_mode": {
    "name": "ipython",
    "version": 3
   },
   "file_extension": ".py",
   "mimetype": "text/x-python",
   "name": "python",
   "nbconvert_exporter": "python",
   "pygments_lexer": "ipython3",
   "version": "3.10.6"
  }
 },
 "nbformat": 4,
 "nbformat_minor": 5
}
