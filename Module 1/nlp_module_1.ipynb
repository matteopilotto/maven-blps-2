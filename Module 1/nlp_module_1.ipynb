{
  "cells": [
    {
      "cell_type": "code",
      "execution_count": 1,
      "metadata": {
        "id": "nLG6Uj3xGaC5"
      },
      "outputs": [],
      "source": [
        "import spacy\n",
        "from spacy.lang.en.stop_words import STOP_WORDS\n",
        "from string import punctuation\n",
        "from collections import Counter\n",
        "from heapq import nlargest"
      ]
    },
    {
      "cell_type": "markdown",
      "metadata": {
        "id": "MMidIn7nJAxy"
      },
      "source": [
        "# Basic NLP"
      ]
    },
    {
      "cell_type": "markdown",
      "metadata": {},
      "source": [
        "## Data cleaning"
      ]
    },
    {
      "cell_type": "code",
      "execution_count": 11,
      "metadata": {
        "colab": {
          "base_uri": "https://localhost:8080/"
        },
        "id": "1aPu0c24JCf8",
        "outputId": "9343fde4-06ad-4693-ed4e-fd439dc91171"
      },
      "outputs": [
        {
          "name": "stdout",
          "output_type": "stream",
          "text": [
            "a touching movie it is full of emotions and wonderful acting i could have sat through it a second time \n"
          ]
        }
      ],
      "source": [
        "import re\n",
        "\n",
        "# sample review from the IMDB dataset.\n",
        "review = \"<b>A touching movie!!</b> It is full of emotions and wonderful acting.<br> I could have sat through it a second time.\"\n",
        "\n",
        "cleaned_review = re.sub(re.compile('<.*?>'), '', review) # remove HTML tags\n",
        "cleaned_review = re.sub('[^A-Za-z0-9]+', ' ', cleaned_review) # keep only alphanumeric characters\n",
        "cleaned_review = cleaned_review.lower() # lower case\n",
        "\n",
        "print(cleaned_review)"
      ]
    },
    {
      "cell_type": "code",
      "execution_count": 18,
      "metadata": {
        "colab": {
          "base_uri": "https://localhost:8080/"
        },
        "id": "WNCMvr2sJWGP",
        "outputId": "9d2e623d-6232-4ef2-acfa-c318af1d52ed"
      },
      "outputs": [
        {
          "name": "stdout",
          "output_type": "stream",
          "text": [
            "a touching movie it is full of emotions and wonderful acting i could have sat through it a second time \n",
            "['a', 'touching', 'movie', 'it', 'is', 'full', 'of', 'emotions', 'and', 'wonderful', 'acting', 'i', 'could', 'have', 'sat', 'through', 'it', 'a', 'second', 'time']\n"
          ]
        },
        {
          "name": "stderr",
          "output_type": "stream",
          "text": [
            "[nltk_data] Downloading package punkt to\n",
            "[nltk_data]     C:\\Users\\matte\\AppData\\Roaming\\nltk_data...\n",
            "[nltk_data]   Package punkt is already up-to-date!\n"
          ]
        }
      ],
      "source": [
        "# Tokenization\n",
        "\n",
        "import nltk\n",
        "from nltk.tokenize import word_tokenize\n",
        "\n",
        "nltk.download('punkt') # download \"Punkt Sentence Tokenizer\". it's the default ML model used by the `word_tokenizer` class\n",
        "\n",
        "tokens = nltk.word_tokenize(cleaned_review)\n",
        "\n",
        "print(cleaned_review)\n",
        "print(tokens)"
      ]
    },
    {
      "cell_type": "code",
      "execution_count": 21,
      "metadata": {
        "colab": {
          "base_uri": "https://localhost:8080/"
        },
        "id": "cVxjtNqcJzBI",
        "outputId": "d4b3e7cb-bd89-4a09-96a9-854c34bdca83"
      },
      "outputs": [
        {
          "name": "stdout",
          "output_type": "stream",
          "text": [
            "['touching', 'movie', 'full', 'emotions', 'wonderful', 'acting', 'could', 'sat', 'second', 'time']\n"
          ]
        },
        {
          "name": "stderr",
          "output_type": "stream",
          "text": [
            "[nltk_data] Downloading package stopwords to\n",
            "[nltk_data]     C:\\Users\\matte\\AppData\\Roaming\\nltk_data...\n",
            "[nltk_data]   Package stopwords is already up-to-date!\n"
          ]
        }
      ],
      "source": [
        "# Stop words removal\n",
        "from nltk.corpus import stopwords\n",
        "\n",
        "nltk.download('stopwords')\n",
        "\n",
        "stop_words = stopwords.words('english')\n",
        "\n",
        "filtered_review = [word for word in tokens if word not in stop_words] # removing stop words\n",
        "\n",
        "print(filtered_review)"
      ]
    },
    {
      "cell_type": "code",
      "execution_count": 22,
      "metadata": {
        "colab": {
          "base_uri": "https://localhost:8080/"
        },
        "id": "IF-iQ4FuKnkR",
        "outputId": "456ee91c-b00e-4a33-b0d1-a7573bdd9f24"
      },
      "outputs": [
        {
          "name": "stdout",
          "output_type": "stream",
          "text": [
            "['touching', 'movie', 'full', 'emotion', 'wonderful', 'acting', 'could', 'sat', 'second', 'time']\n"
          ]
        },
        {
          "name": "stderr",
          "output_type": "stream",
          "text": [
            "[nltk_data] Downloading package wordnet to\n",
            "[nltk_data]     C:\\Users\\matte\\AppData\\Roaming\\nltk_data...\n",
            "[nltk_data]   Package wordnet is already up-to-date!\n",
            "[nltk_data] Downloading package omw-1.4 to\n",
            "[nltk_data]     C:\\Users\\matte\\AppData\\Roaming\\nltk_data...\n",
            "[nltk_data]   Package omw-1.4 is already up-to-date!\n"
          ]
        }
      ],
      "source": [
        "from nltk.stem import WordNetLemmatizer\n",
        "\n",
        "nltk.download('wordnet')\n",
        "nltk.download('omw-1.4')\n",
        "\n",
        "lemmatizer = WordNetLemmatizer()\n",
        "\n",
        "lemm_review = [lemmatizer.lemmatize(word) for word in filtered_review]\n",
        "\n",
        "print(lemm_review)"
      ]
    },
    {
      "cell_type": "code",
      "execution_count": 23,
      "metadata": {
        "colab": {
          "base_uri": "https://localhost:8080/"
        },
        "id": "vpAml-vDu3Tc",
        "outputId": "1dfe0cb2-7d9b-474b-e744-7745b2ca38bd"
      },
      "outputs": [
        {
          "name": "stdout",
          "output_type": "stream",
          "text": [
            "[('I', 'PRP'), ('am', 'VBP'), ('learning', 'VBG'), ('Natural', 'NNP'), ('Language', 'NNP'), ('Processing', 'NNP'), ('on', 'IN'), ('Analytics', 'NNP'), ('Vidhya', 'NNP')]\n"
          ]
        },
        {
          "name": "stderr",
          "output_type": "stream",
          "text": [
            "[nltk_data] Downloading package averaged_perceptron_tagger to\n",
            "[nltk_data]     C:\\Users\\matte\\AppData\\Roaming\\nltk_data...\n",
            "[nltk_data]   Package averaged_perceptron_tagger is already up-to-\n",
            "[nltk_data]       date!\n"
          ]
        }
      ],
      "source": [
        "from nltk import word_tokenize, pos_tag\n",
        "\n",
        "nltk.download('averaged_perceptron_tagger')\n",
        "\n",
        "text = \"I am learning Natural Language Processing on Analytics Vidhya\"\n",
        "tokens = word_tokenize(text)\n",
        "print(pos_tag(tokens))"
      ]
    },
    {
      "cell_type": "markdown",
      "metadata": {
        "id": "1xDUzJGCKp51"
      },
      "source": [
        "# Spacy"
      ]
    },
    {
      "cell_type": "code",
      "execution_count": 27,
      "metadata": {
        "id": "ByYveMdHToHf"
      },
      "outputs": [
        {
          "name": "stdout",
          "output_type": "stream",
          "text": [
            "['tok2vec', 'tagger', 'parser', 'attribute_ruler', 'lemmatizer', 'ner']\n",
            "\n",
            "('tok2vec', <spacy.pipeline.tok2vec.Tok2Vec object at 0x0000026A78C7E210>)\n",
            "('tagger', <spacy.pipeline.tagger.Tagger object at 0x0000026A78C7E3F0>)\n",
            "('parser', <spacy.pipeline.dep_parser.DependencyParser object at 0x0000026A704CE810>)\n",
            "('attribute_ruler', <spacy.pipeline.attributeruler.AttributeRuler object at 0x0000026A79D3FB10>)\n",
            "('lemmatizer', <spacy.lang.en.lemmatizer.EnglishLemmatizer object at 0x0000026A78EA9210>)\n",
            "('ner', <spacy.pipeline.ner.EntityRecognizer object at 0x0000026A704CEC00>)\n"
          ]
        }
      ],
      "source": [
        "import os\n",
        "import spacy\n",
        "from spacy import displacy\n",
        "\n",
        "nlp = spacy.load(\"en_core_web_sm\")\n",
        "\n",
        "print(nlp.pipe_names)\n",
        "print()\n",
        "\n",
        "for step in nlp.pipeline:\n",
        "    print(step)"
      ]
    },
    {
      "cell_type": "code",
      "execution_count": 28,
      "metadata": {},
      "outputs": [
        {
          "data": {
            "text/html": [
              "<style type=\"text/css\">\n",
              "#T_84bcf th {\n",
              "  text-align: left;\n",
              "}\n",
              "#T_84bcf_row0_col0, #T_84bcf_row0_col1, #T_84bcf_row1_col0, #T_84bcf_row1_col1, #T_84bcf_row2_col0, #T_84bcf_row2_col1, #T_84bcf_row3_col0, #T_84bcf_row3_col1, #T_84bcf_row4_col0, #T_84bcf_row4_col1, #T_84bcf_row5_col0, #T_84bcf_row5_col1, #T_84bcf_row6_col0, #T_84bcf_row6_col1, #T_84bcf_row7_col0, #T_84bcf_row7_col1, #T_84bcf_row8_col0, #T_84bcf_row8_col1, #T_84bcf_row9_col0, #T_84bcf_row9_col1, #T_84bcf_row10_col0, #T_84bcf_row10_col1, #T_84bcf_row11_col0, #T_84bcf_row11_col1, #T_84bcf_row12_col0, #T_84bcf_row12_col1, #T_84bcf_row13_col0, #T_84bcf_row13_col1, #T_84bcf_row14_col0, #T_84bcf_row14_col1, #T_84bcf_row15_col0, #T_84bcf_row15_col1, #T_84bcf_row16_col0, #T_84bcf_row16_col1, #T_84bcf_row17_col0, #T_84bcf_row17_col1 {\n",
              "  text-align: left;\n",
              "}\n",
              "</style>\n",
              "<table id=\"T_84bcf\">\n",
              "  <thead>\n",
              "    <tr>\n",
              "      <th class=\"blank level0\" >&nbsp;</th>\n",
              "      <th id=\"T_84bcf_level0_col0\" class=\"col_heading level0 col0\" >label</th>\n",
              "      <th id=\"T_84bcf_level0_col1\" class=\"col_heading level0 col1\" >explanation</th>\n",
              "    </tr>\n",
              "  </thead>\n",
              "  <tbody>\n",
              "    <tr>\n",
              "      <th id=\"T_84bcf_level0_row0\" class=\"row_heading level0 row0\" >0</th>\n",
              "      <td id=\"T_84bcf_row0_col0\" class=\"data row0 col0\" >CARDINAL</td>\n",
              "      <td id=\"T_84bcf_row0_col1\" class=\"data row0 col1\" >Numerals that do not fall under another type</td>\n",
              "    </tr>\n",
              "    <tr>\n",
              "      <th id=\"T_84bcf_level0_row1\" class=\"row_heading level0 row1\" >1</th>\n",
              "      <td id=\"T_84bcf_row1_col0\" class=\"data row1 col0\" >DATE</td>\n",
              "      <td id=\"T_84bcf_row1_col1\" class=\"data row1 col1\" >Absolute or relative dates or periods</td>\n",
              "    </tr>\n",
              "    <tr>\n",
              "      <th id=\"T_84bcf_level0_row2\" class=\"row_heading level0 row2\" >2</th>\n",
              "      <td id=\"T_84bcf_row2_col0\" class=\"data row2 col0\" >EVENT</td>\n",
              "      <td id=\"T_84bcf_row2_col1\" class=\"data row2 col1\" >Named hurricanes, battles, wars, sports events, etc.</td>\n",
              "    </tr>\n",
              "    <tr>\n",
              "      <th id=\"T_84bcf_level0_row3\" class=\"row_heading level0 row3\" >3</th>\n",
              "      <td id=\"T_84bcf_row3_col0\" class=\"data row3 col0\" >FAC</td>\n",
              "      <td id=\"T_84bcf_row3_col1\" class=\"data row3 col1\" >Buildings, airports, highways, bridges, etc.</td>\n",
              "    </tr>\n",
              "    <tr>\n",
              "      <th id=\"T_84bcf_level0_row4\" class=\"row_heading level0 row4\" >4</th>\n",
              "      <td id=\"T_84bcf_row4_col0\" class=\"data row4 col0\" >GPE</td>\n",
              "      <td id=\"T_84bcf_row4_col1\" class=\"data row4 col1\" >Countries, cities, states</td>\n",
              "    </tr>\n",
              "    <tr>\n",
              "      <th id=\"T_84bcf_level0_row5\" class=\"row_heading level0 row5\" >5</th>\n",
              "      <td id=\"T_84bcf_row5_col0\" class=\"data row5 col0\" >LANGUAGE</td>\n",
              "      <td id=\"T_84bcf_row5_col1\" class=\"data row5 col1\" >Any named language</td>\n",
              "    </tr>\n",
              "    <tr>\n",
              "      <th id=\"T_84bcf_level0_row6\" class=\"row_heading level0 row6\" >6</th>\n",
              "      <td id=\"T_84bcf_row6_col0\" class=\"data row6 col0\" >LAW</td>\n",
              "      <td id=\"T_84bcf_row6_col1\" class=\"data row6 col1\" >Named documents made into laws.</td>\n",
              "    </tr>\n",
              "    <tr>\n",
              "      <th id=\"T_84bcf_level0_row7\" class=\"row_heading level0 row7\" >7</th>\n",
              "      <td id=\"T_84bcf_row7_col0\" class=\"data row7 col0\" >LOC</td>\n",
              "      <td id=\"T_84bcf_row7_col1\" class=\"data row7 col1\" >Non-GPE locations, mountain ranges, bodies of water</td>\n",
              "    </tr>\n",
              "    <tr>\n",
              "      <th id=\"T_84bcf_level0_row8\" class=\"row_heading level0 row8\" >8</th>\n",
              "      <td id=\"T_84bcf_row8_col0\" class=\"data row8 col0\" >MONEY</td>\n",
              "      <td id=\"T_84bcf_row8_col1\" class=\"data row8 col1\" >Monetary values, including unit</td>\n",
              "    </tr>\n",
              "    <tr>\n",
              "      <th id=\"T_84bcf_level0_row9\" class=\"row_heading level0 row9\" >9</th>\n",
              "      <td id=\"T_84bcf_row9_col0\" class=\"data row9 col0\" >NORP</td>\n",
              "      <td id=\"T_84bcf_row9_col1\" class=\"data row9 col1\" >Nationalities or religious or political groups</td>\n",
              "    </tr>\n",
              "    <tr>\n",
              "      <th id=\"T_84bcf_level0_row10\" class=\"row_heading level0 row10\" >10</th>\n",
              "      <td id=\"T_84bcf_row10_col0\" class=\"data row10 col0\" >ORDINAL</td>\n",
              "      <td id=\"T_84bcf_row10_col1\" class=\"data row10 col1\" >\"first\", \"second\", etc.</td>\n",
              "    </tr>\n",
              "    <tr>\n",
              "      <th id=\"T_84bcf_level0_row11\" class=\"row_heading level0 row11\" >11</th>\n",
              "      <td id=\"T_84bcf_row11_col0\" class=\"data row11 col0\" >ORG</td>\n",
              "      <td id=\"T_84bcf_row11_col1\" class=\"data row11 col1\" >Companies, agencies, institutions, etc.</td>\n",
              "    </tr>\n",
              "    <tr>\n",
              "      <th id=\"T_84bcf_level0_row12\" class=\"row_heading level0 row12\" >12</th>\n",
              "      <td id=\"T_84bcf_row12_col0\" class=\"data row12 col0\" >PERCENT</td>\n",
              "      <td id=\"T_84bcf_row12_col1\" class=\"data row12 col1\" >Percentage, including \"%\"</td>\n",
              "    </tr>\n",
              "    <tr>\n",
              "      <th id=\"T_84bcf_level0_row13\" class=\"row_heading level0 row13\" >13</th>\n",
              "      <td id=\"T_84bcf_row13_col0\" class=\"data row13 col0\" >PERSON</td>\n",
              "      <td id=\"T_84bcf_row13_col1\" class=\"data row13 col1\" >People, including fictional</td>\n",
              "    </tr>\n",
              "    <tr>\n",
              "      <th id=\"T_84bcf_level0_row14\" class=\"row_heading level0 row14\" >14</th>\n",
              "      <td id=\"T_84bcf_row14_col0\" class=\"data row14 col0\" >PRODUCT</td>\n",
              "      <td id=\"T_84bcf_row14_col1\" class=\"data row14 col1\" >Objects, vehicles, foods, etc. (not services)</td>\n",
              "    </tr>\n",
              "    <tr>\n",
              "      <th id=\"T_84bcf_level0_row15\" class=\"row_heading level0 row15\" >15</th>\n",
              "      <td id=\"T_84bcf_row15_col0\" class=\"data row15 col0\" >QUANTITY</td>\n",
              "      <td id=\"T_84bcf_row15_col1\" class=\"data row15 col1\" >Measurements, as of weight or distance</td>\n",
              "    </tr>\n",
              "    <tr>\n",
              "      <th id=\"T_84bcf_level0_row16\" class=\"row_heading level0 row16\" >16</th>\n",
              "      <td id=\"T_84bcf_row16_col0\" class=\"data row16 col0\" >TIME</td>\n",
              "      <td id=\"T_84bcf_row16_col1\" class=\"data row16 col1\" >Times smaller than a day</td>\n",
              "    </tr>\n",
              "    <tr>\n",
              "      <th id=\"T_84bcf_level0_row17\" class=\"row_heading level0 row17\" >17</th>\n",
              "      <td id=\"T_84bcf_row17_col0\" class=\"data row17 col0\" >WORK_OF_ART</td>\n",
              "      <td id=\"T_84bcf_row17_col1\" class=\"data row17 col1\" >Titles of books, songs, etc.</td>\n",
              "    </tr>\n",
              "  </tbody>\n",
              "</table>\n"
            ],
            "text/plain": [
              "<pandas.io.formats.style.Styler at 0x26a7d574ed0>"
            ]
          },
          "metadata": {},
          "output_type": "display_data"
        }
      ],
      "source": [
        "import pandas as pd\n",
        "pd.set_option('display.max_colwidth', None) # turn off column width truncation\n",
        "\n",
        "ner_labels = nlp.pipeline[-1][1].labels\n",
        "ner_label_df = (\n",
        "    pd.DataFrame([(label, spacy.explain(label)) for label in ner_labels], columns=[\"label\", \"explanation\"])\n",
        "    .style\n",
        "    .set_table_styles([{'selector': 'th', 'props': [('text-align', 'left')]}])\n",
        "    .set_properties(**{'text-align': 'left'})\n",
        ")   \n",
        "\n",
        "display(ner_label_df)"
      ]
    },
    {
      "cell_type": "code",
      "execution_count": 29,
      "metadata": {
        "colab": {
          "base_uri": "https://localhost:8080/",
          "height": 87
        },
        "id": "p3QJNNA1TWkE",
        "outputId": "e9a3bfcc-198b-46b7-de69-9a6c60e324f4"
      },
      "outputs": [
        {
          "data": {
            "text/html": [
              "<span class=\"tex2jax_ignore\"><div class=\"entities\" style=\"line-height: 2.5; direction: ltr\">Looking for a hotel in \n",
              "<mark class=\"entity\" style=\"background: #feca74; padding: 0.45em 0.6em; margin: 0 0.25em; line-height: 1; border-radius: 0.35em;\">\n",
              "    New York\n",
              "    <span style=\"font-size: 0.8em; font-weight: bold; line-height: 1; border-radius: 0.35em; vertical-align: middle; margin-left: 0.5rem\">GPE</span>\n",
              "</mark>\n",
              " near \n",
              "<mark class=\"entity\" style=\"background: #9cc9cc; padding: 0.45em 0.6em; margin: 0 0.25em; line-height: 1; border-radius: 0.35em;\">\n",
              "    Times Square\n",
              "    <span style=\"font-size: 0.8em; font-weight: bold; line-height: 1; border-radius: 0.35em; vertical-align: middle; margin-left: 0.5rem\">FAC</span>\n",
              "</mark>\n",
              " with free breakfast and cheaper</br>than $\n",
              "<mark class=\"entity\" style=\"background: #e4e7d2; padding: 0.45em 0.6em; margin: 0 0.25em; line-height: 1; border-radius: 0.35em;\">\n",
              "    100\n",
              "    <span style=\"font-size: 0.8em; font-weight: bold; line-height: 1; border-radius: 0.35em; vertical-align: middle; margin-left: 0.5rem\">MONEY</span>\n",
              "</mark>\n",
              " for \n",
              "<mark class=\"entity\" style=\"background: #bfe1d9; padding: 0.45em 0.6em; margin: 0 0.25em; line-height: 1; border-radius: 0.35em;\">\n",
              "    2nd June\n",
              "    <span style=\"font-size: 0.8em; font-weight: bold; line-height: 1; border-radius: 0.35em; vertical-align: middle; margin-left: 0.5rem\">DATE</span>\n",
              "</mark>\n",
              " which is really kids friendly and has a swimming pool and I want to stay there for \n",
              "<mark class=\"entity\" style=\"background: #bfe1d9; padding: 0.45em 0.6em; margin: 0 0.25em; line-height: 1; border-radius: 0.35em;\">\n",
              "    8 days\n",
              "    <span style=\"font-size: 0.8em; font-weight: bold; line-height: 1; border-radius: 0.35em; vertical-align: middle; margin-left: 0.5rem\">DATE</span>\n",
              "</mark>\n",
              "</div></span>"
            ],
            "text/plain": [
              "<IPython.core.display.HTML object>"
            ]
          },
          "metadata": {},
          "output_type": "display_data"
        }
      ],
      "source": [
        "text = \"\"\"\n",
        "Looking for a hotel in New York near Times Square with free breakfast and cheaper\n",
        "than $100 for 2nd June which is really kids friendly and has a swimming pool and I want to stay there for 8 days\n",
        "\"\"\".strip()\n",
        "\n",
        "doc = nlp(text)\n",
        "# sentence_spans = list(doc.sents)\n",
        "displacy.render(doc, jupyter=True, style=\"ent\")\n",
        "\n",
        "pd.DataFrame([(label, spacy.explain(label)) for label in ner_labels], columns=[\"label\", \"explanation\"])"
      ]
    },
    {
      "cell_type": "code",
      "execution_count": 53,
      "metadata": {
        "colab": {
          "base_uri": "https://localhost:8080/",
          "height": 52
        },
        "id": "Haqrlf6IsGii",
        "outputId": "4e75f980-1825-43cd-c0c9-be80ac1dd60d"
      },
      "outputs": [
        {
          "data": {
            "text/html": [
              "<span class=\"tex2jax_ignore\"><div class=\"entities\" style=\"line-height: 2.5; direction: ltr\">Close to \n",
              "<mark class=\"entity\" style=\"background: #9cc9cc; padding: 0.45em 0.6em; margin: 0 0.25em; line-height: 1; border-radius: 0.35em;\">\n",
              "    the Effiel Tower\n",
              "    <span style=\"font-size: 0.8em; font-weight: bold; line-height: 1; border-radius: 0.35em; vertical-align: middle; margin-left: 0.5rem\">FAC</span>\n",
              "</mark>\n",
              " and is very high end with great shopping nearby</div></span>"
            ],
            "text/plain": [
              "<IPython.core.display.HTML object>"
            ]
          },
          "metadata": {},
          "output_type": "display_data"
        }
      ],
      "source": [
        "text = \"\"\"Close to the Effiel Tower and is very high end with great shopping nearby\"\"\"\n",
        "doc = nlp(text)\n",
        "# sentence_spans = list(doc.sents)\n",
        "displacy.render(doc, jupyter=True, style=\"ent\")"
      ]
    },
    {
      "cell_type": "code",
      "execution_count": 54,
      "metadata": {
        "colab": {
          "base_uri": "https://localhost:8080/",
          "height": 52
        },
        "id": "R13-Mz5zzpI8",
        "outputId": "d2661787-d824-4e0a-ab48-40c532e737ad"
      },
      "outputs": [
        {
          "data": {
            "text/html": [
              "<span class=\"tex2jax_ignore\"><div class=\"entities\" style=\"line-height: 2.5; direction: ltr\">I want to stay in a \n",
              "<mark class=\"entity\" style=\"background: #c887fb; padding: 0.45em 0.6em; margin: 0 0.25em; line-height: 1; border-radius: 0.35em;\">\n",
              "    European\n",
              "    <span style=\"font-size: 0.8em; font-weight: bold; line-height: 1; border-radius: 0.35em; vertical-align: middle; margin-left: 0.5rem\">NORP</span>\n",
              "</mark>\n",
              " city that filmed Game of \n",
              "<mark class=\"entity\" style=\"background: #7aecec; padding: 0.45em 0.6em; margin: 0 0.25em; line-height: 1; border-radius: 0.35em;\">\n",
              "    Thrones\n",
              "    <span style=\"font-size: 0.8em; font-weight: bold; line-height: 1; border-radius: 0.35em; vertical-align: middle; margin-left: 0.5rem\">ORG</span>\n",
              "</mark>\n",
              " and has very cheap booze and art galleries for \n",
              "<mark class=\"entity\" style=\"background: #bfe1d9; padding: 0.45em 0.6em; margin: 0 0.25em; line-height: 1; border-radius: 0.35em;\">\n",
              "    4 days\n",
              "    <span style=\"font-size: 0.8em; font-weight: bold; line-height: 1; border-radius: 0.35em; vertical-align: middle; margin-left: 0.5rem\">DATE</span>\n",
              "</mark>\n",
              "</div></span>"
            ],
            "text/plain": [
              "<IPython.core.display.HTML object>"
            ]
          },
          "metadata": {},
          "output_type": "display_data"
        }
      ],
      "source": [
        "#text = \"\"\"My very photogenic mother died in a freak accident (picnic, lightning) when I was three, and, save for a pocket of warmth in the darkest past, nothing of her subsists within the hollows and dells of memory, over which, if you can still stand my style (I am writing under observation), the sun of my infancy had set: surely, you all know those redolent remnants of day suspended, with the midges, about some hedge in bloom or suddenly entered and traversed by the rambler, at the bottom of a hill, in the summer dusk; a furry warmth, golden midges\"\"\"\n",
        "text = \"I want to stay in a European city that filmed Game of Thrones and has very cheap booze and art galleries for 4 days\"\n",
        "doc = nlp(text)\n",
        "# sentence_spans = list(doc.sents)\n",
        "displacy.render(doc, jupyter=True, style=\"ent\")"
      ]
    },
    {
      "cell_type": "code",
      "execution_count": 69,
      "metadata": {
        "colab": {
          "base_uri": "https://localhost:8080/",
          "height": 353
        },
        "id": "U9Wk4I230lLe",
        "outputId": "3dba3484-3774-4dec-f5b2-0649faa6bde0"
      },
      "outputs": [
        {
          "data": {
            "text/html": [
              "<span class=\"tex2jax_ignore\"><svg xmlns=\"http://www.w3.org/2000/svg\" xmlns:xlink=\"http://www.w3.org/1999/xlink\" xml:lang=\"en\" id=\"b12dfd9b95534a8eb595d192366e798c-0\" class=\"displacy\" width=\"1800\" height=\"312.0\" direction=\"ltr\" style=\"max-width: none; height: 312.0px; color: #000000; background: #ffffff; font-family: Arial; direction: ltr\">\n",
              "<text class=\"displacy-token\" fill=\"currentColor\" text-anchor=\"middle\" y=\"222.0\">\n",
              "    <tspan class=\"displacy-word\" fill=\"currentColor\" x=\"50\">Natural</tspan>\n",
              "    <tspan class=\"displacy-tag\" dy=\"2em\" fill=\"currentColor\" x=\"50\">PROPN</tspan>\n",
              "</text>\n",
              "\n",
              "<text class=\"displacy-token\" fill=\"currentColor\" text-anchor=\"middle\" y=\"222.0\">\n",
              "    <tspan class=\"displacy-word\" fill=\"currentColor\" x=\"225\">Language</tspan>\n",
              "    <tspan class=\"displacy-tag\" dy=\"2em\" fill=\"currentColor\" x=\"225\">PROPN</tspan>\n",
              "</text>\n",
              "\n",
              "<text class=\"displacy-token\" fill=\"currentColor\" text-anchor=\"middle\" y=\"222.0\">\n",
              "    <tspan class=\"displacy-word\" fill=\"currentColor\" x=\"400\">Processing</tspan>\n",
              "    <tspan class=\"displacy-tag\" dy=\"2em\" fill=\"currentColor\" x=\"400\">PROPN</tspan>\n",
              "</text>\n",
              "\n",
              "<text class=\"displacy-token\" fill=\"currentColor\" text-anchor=\"middle\" y=\"222.0\">\n",
              "    <tspan class=\"displacy-word\" fill=\"currentColor\" x=\"575\">provides</tspan>\n",
              "    <tspan class=\"displacy-tag\" dy=\"2em\" fill=\"currentColor\" x=\"575\">VERB</tspan>\n",
              "</text>\n",
              "\n",
              "<text class=\"displacy-token\" fill=\"currentColor\" text-anchor=\"middle\" y=\"222.0\">\n",
              "    <tspan class=\"displacy-word\" fill=\"currentColor\" x=\"750\">computers</tspan>\n",
              "    <tspan class=\"displacy-tag\" dy=\"2em\" fill=\"currentColor\" x=\"750\">NOUN</tspan>\n",
              "</text>\n",
              "\n",
              "<text class=\"displacy-token\" fill=\"currentColor\" text-anchor=\"middle\" y=\"222.0\">\n",
              "    <tspan class=\"displacy-word\" fill=\"currentColor\" x=\"925\">the</tspan>\n",
              "    <tspan class=\"displacy-tag\" dy=\"2em\" fill=\"currentColor\" x=\"925\">DET</tspan>\n",
              "</text>\n",
              "\n",
              "<text class=\"displacy-token\" fill=\"currentColor\" text-anchor=\"middle\" y=\"222.0\">\n",
              "    <tspan class=\"displacy-word\" fill=\"currentColor\" x=\"1100\">capability</tspan>\n",
              "    <tspan class=\"displacy-tag\" dy=\"2em\" fill=\"currentColor\" x=\"1100\">NOUN</tspan>\n",
              "</text>\n",
              "\n",
              "<text class=\"displacy-token\" fill=\"currentColor\" text-anchor=\"middle\" y=\"222.0\">\n",
              "    <tspan class=\"displacy-word\" fill=\"currentColor\" x=\"1275\">of</tspan>\n",
              "    <tspan class=\"displacy-tag\" dy=\"2em\" fill=\"currentColor\" x=\"1275\">ADP</tspan>\n",
              "</text>\n",
              "\n",
              "<text class=\"displacy-token\" fill=\"currentColor\" text-anchor=\"middle\" y=\"222.0\">\n",
              "    <tspan class=\"displacy-word\" fill=\"currentColor\" x=\"1450\">understanding</tspan>\n",
              "    <tspan class=\"displacy-tag\" dy=\"2em\" fill=\"currentColor\" x=\"1450\">VERB</tspan>\n",
              "</text>\n",
              "\n",
              "<text class=\"displacy-token\" fill=\"currentColor\" text-anchor=\"middle\" y=\"222.0\">\n",
              "    <tspan class=\"displacy-word\" fill=\"currentColor\" x=\"1625\">text</tspan>\n",
              "    <tspan class=\"displacy-tag\" dy=\"2em\" fill=\"currentColor\" x=\"1625\">NOUN</tspan>\n",
              "</text>\n",
              "\n",
              "<g class=\"displacy-arrow\">\n",
              "    <path class=\"displacy-arc\" id=\"arrow-b12dfd9b95534a8eb595d192366e798c-0-0\" stroke-width=\"2px\" d=\"M70,177.0 C70,89.5 220.0,89.5 220.0,177.0\" fill=\"none\" stroke=\"currentColor\"/>\n",
              "    <text dy=\"1.25em\" style=\"font-size: 0.8em; letter-spacing: 1px\">\n",
              "        <textPath xlink:href=\"#arrow-b12dfd9b95534a8eb595d192366e798c-0-0\" class=\"displacy-label\" startOffset=\"50%\" side=\"left\" fill=\"currentColor\" text-anchor=\"middle\">compound</textPath>\n",
              "    </text>\n",
              "    <path class=\"displacy-arrowhead\" d=\"M70,179.0 L62,167.0 78,167.0\" fill=\"currentColor\"/>\n",
              "</g>\n",
              "\n",
              "<g class=\"displacy-arrow\">\n",
              "    <path class=\"displacy-arc\" id=\"arrow-b12dfd9b95534a8eb595d192366e798c-0-1\" stroke-width=\"2px\" d=\"M245,177.0 C245,89.5 395.0,89.5 395.0,177.0\" fill=\"none\" stroke=\"currentColor\"/>\n",
              "    <text dy=\"1.25em\" style=\"font-size: 0.8em; letter-spacing: 1px\">\n",
              "        <textPath xlink:href=\"#arrow-b12dfd9b95534a8eb595d192366e798c-0-1\" class=\"displacy-label\" startOffset=\"50%\" side=\"left\" fill=\"currentColor\" text-anchor=\"middle\">compound</textPath>\n",
              "    </text>\n",
              "    <path class=\"displacy-arrowhead\" d=\"M245,179.0 L237,167.0 253,167.0\" fill=\"currentColor\"/>\n",
              "</g>\n",
              "\n",
              "<g class=\"displacy-arrow\">\n",
              "    <path class=\"displacy-arc\" id=\"arrow-b12dfd9b95534a8eb595d192366e798c-0-2\" stroke-width=\"2px\" d=\"M420,177.0 C420,89.5 570.0,89.5 570.0,177.0\" fill=\"none\" stroke=\"currentColor\"/>\n",
              "    <text dy=\"1.25em\" style=\"font-size: 0.8em; letter-spacing: 1px\">\n",
              "        <textPath xlink:href=\"#arrow-b12dfd9b95534a8eb595d192366e798c-0-2\" class=\"displacy-label\" startOffset=\"50%\" side=\"left\" fill=\"currentColor\" text-anchor=\"middle\">nsubj</textPath>\n",
              "    </text>\n",
              "    <path class=\"displacy-arrowhead\" d=\"M420,179.0 L412,167.0 428,167.0\" fill=\"currentColor\"/>\n",
              "</g>\n",
              "\n",
              "<g class=\"displacy-arrow\">\n",
              "    <path class=\"displacy-arc\" id=\"arrow-b12dfd9b95534a8eb595d192366e798c-0-3\" stroke-width=\"2px\" d=\"M595,177.0 C595,89.5 745.0,89.5 745.0,177.0\" fill=\"none\" stroke=\"currentColor\"/>\n",
              "    <text dy=\"1.25em\" style=\"font-size: 0.8em; letter-spacing: 1px\">\n",
              "        <textPath xlink:href=\"#arrow-b12dfd9b95534a8eb595d192366e798c-0-3\" class=\"displacy-label\" startOffset=\"50%\" side=\"left\" fill=\"currentColor\" text-anchor=\"middle\">dobj</textPath>\n",
              "    </text>\n",
              "    <path class=\"displacy-arrowhead\" d=\"M745.0,179.0 L753.0,167.0 737.0,167.0\" fill=\"currentColor\"/>\n",
              "</g>\n",
              "\n",
              "<g class=\"displacy-arrow\">\n",
              "    <path class=\"displacy-arc\" id=\"arrow-b12dfd9b95534a8eb595d192366e798c-0-4\" stroke-width=\"2px\" d=\"M945,177.0 C945,89.5 1095.0,89.5 1095.0,177.0\" fill=\"none\" stroke=\"currentColor\"/>\n",
              "    <text dy=\"1.25em\" style=\"font-size: 0.8em; letter-spacing: 1px\">\n",
              "        <textPath xlink:href=\"#arrow-b12dfd9b95534a8eb595d192366e798c-0-4\" class=\"displacy-label\" startOffset=\"50%\" side=\"left\" fill=\"currentColor\" text-anchor=\"middle\">det</textPath>\n",
              "    </text>\n",
              "    <path class=\"displacy-arrowhead\" d=\"M945,179.0 L937,167.0 953,167.0\" fill=\"currentColor\"/>\n",
              "</g>\n",
              "\n",
              "<g class=\"displacy-arrow\">\n",
              "    <path class=\"displacy-arc\" id=\"arrow-b12dfd9b95534a8eb595d192366e798c-0-5\" stroke-width=\"2px\" d=\"M595,177.0 C595,2.0 1100.0,2.0 1100.0,177.0\" fill=\"none\" stroke=\"currentColor\"/>\n",
              "    <text dy=\"1.25em\" style=\"font-size: 0.8em; letter-spacing: 1px\">\n",
              "        <textPath xlink:href=\"#arrow-b12dfd9b95534a8eb595d192366e798c-0-5\" class=\"displacy-label\" startOffset=\"50%\" side=\"left\" fill=\"currentColor\" text-anchor=\"middle\">dobj</textPath>\n",
              "    </text>\n",
              "    <path class=\"displacy-arrowhead\" d=\"M1100.0,179.0 L1108.0,167.0 1092.0,167.0\" fill=\"currentColor\"/>\n",
              "</g>\n",
              "\n",
              "<g class=\"displacy-arrow\">\n",
              "    <path class=\"displacy-arc\" id=\"arrow-b12dfd9b95534a8eb595d192366e798c-0-6\" stroke-width=\"2px\" d=\"M1120,177.0 C1120,89.5 1270.0,89.5 1270.0,177.0\" fill=\"none\" stroke=\"currentColor\"/>\n",
              "    <text dy=\"1.25em\" style=\"font-size: 0.8em; letter-spacing: 1px\">\n",
              "        <textPath xlink:href=\"#arrow-b12dfd9b95534a8eb595d192366e798c-0-6\" class=\"displacy-label\" startOffset=\"50%\" side=\"left\" fill=\"currentColor\" text-anchor=\"middle\">prep</textPath>\n",
              "    </text>\n",
              "    <path class=\"displacy-arrowhead\" d=\"M1270.0,179.0 L1278.0,167.0 1262.0,167.0\" fill=\"currentColor\"/>\n",
              "</g>\n",
              "\n",
              "<g class=\"displacy-arrow\">\n",
              "    <path class=\"displacy-arc\" id=\"arrow-b12dfd9b95534a8eb595d192366e798c-0-7\" stroke-width=\"2px\" d=\"M1295,177.0 C1295,89.5 1445.0,89.5 1445.0,177.0\" fill=\"none\" stroke=\"currentColor\"/>\n",
              "    <text dy=\"1.25em\" style=\"font-size: 0.8em; letter-spacing: 1px\">\n",
              "        <textPath xlink:href=\"#arrow-b12dfd9b95534a8eb595d192366e798c-0-7\" class=\"displacy-label\" startOffset=\"50%\" side=\"left\" fill=\"currentColor\" text-anchor=\"middle\">pcomp</textPath>\n",
              "    </text>\n",
              "    <path class=\"displacy-arrowhead\" d=\"M1445.0,179.0 L1453.0,167.0 1437.0,167.0\" fill=\"currentColor\"/>\n",
              "</g>\n",
              "\n",
              "<g class=\"displacy-arrow\">\n",
              "    <path class=\"displacy-arc\" id=\"arrow-b12dfd9b95534a8eb595d192366e798c-0-8\" stroke-width=\"2px\" d=\"M1470,177.0 C1470,89.5 1620.0,89.5 1620.0,177.0\" fill=\"none\" stroke=\"currentColor\"/>\n",
              "    <text dy=\"1.25em\" style=\"font-size: 0.8em; letter-spacing: 1px\">\n",
              "        <textPath xlink:href=\"#arrow-b12dfd9b95534a8eb595d192366e798c-0-8\" class=\"displacy-label\" startOffset=\"50%\" side=\"left\" fill=\"currentColor\" text-anchor=\"middle\">dobj</textPath>\n",
              "    </text>\n",
              "    <path class=\"displacy-arrowhead\" d=\"M1620.0,179.0 L1628.0,167.0 1612.0,167.0\" fill=\"currentColor\"/>\n",
              "</g>\n",
              "</svg></span>"
            ],
            "text/plain": [
              "<IPython.core.display.HTML object>"
            ]
          },
          "metadata": {},
          "output_type": "display_data"
        },
        {
          "data": {
            "text/html": [
              "<div>\n",
              "<style scoped>\n",
              "    .dataframe tbody tr th:only-of-type {\n",
              "        vertical-align: middle;\n",
              "    }\n",
              "\n",
              "    .dataframe tbody tr th {\n",
              "        vertical-align: top;\n",
              "    }\n",
              "\n",
              "    .dataframe thead th {\n",
              "        text-align: right;\n",
              "    }\n",
              "</style>\n",
              "<table border=\"1\" class=\"dataframe\">\n",
              "  <thead>\n",
              "    <tr style=\"text-align: right;\">\n",
              "      <th></th>\n",
              "      <th>0</th>\n",
              "      <th>1</th>\n",
              "      <th>2</th>\n",
              "      <th>3</th>\n",
              "      <th>4</th>\n",
              "      <th>5</th>\n",
              "      <th>6</th>\n",
              "      <th>7</th>\n",
              "      <th>8</th>\n",
              "      <th>9</th>\n",
              "    </tr>\n",
              "  </thead>\n",
              "  <tbody>\n",
              "    <tr>\n",
              "      <th>token</th>\n",
              "      <td>Natural</td>\n",
              "      <td>Language</td>\n",
              "      <td>Processing</td>\n",
              "      <td>provides</td>\n",
              "      <td>computers</td>\n",
              "      <td>the</td>\n",
              "      <td>capability</td>\n",
              "      <td>of</td>\n",
              "      <td>understanding</td>\n",
              "      <td>text</td>\n",
              "    </tr>\n",
              "    <tr>\n",
              "      <th>dependency_label</th>\n",
              "      <td>compound</td>\n",
              "      <td>compound</td>\n",
              "      <td>nsubj</td>\n",
              "      <td>ROOT</td>\n",
              "      <td>dobj</td>\n",
              "      <td>det</td>\n",
              "      <td>dobj</td>\n",
              "      <td>prep</td>\n",
              "      <td>pcomp</td>\n",
              "      <td>dobj</td>\n",
              "    </tr>\n",
              "    <tr>\n",
              "      <th>dep_label_expl</th>\n",
              "      <td>compound</td>\n",
              "      <td>compound</td>\n",
              "      <td>nominal subject</td>\n",
              "      <td>root</td>\n",
              "      <td>direct object</td>\n",
              "      <td>determiner</td>\n",
              "      <td>direct object</td>\n",
              "      <td>prepositional modifier</td>\n",
              "      <td>complement of preposition</td>\n",
              "      <td>direct object</td>\n",
              "    </tr>\n",
              "    <tr>\n",
              "      <th>pos_label</th>\n",
              "      <td>PROPN</td>\n",
              "      <td>PROPN</td>\n",
              "      <td>PROPN</td>\n",
              "      <td>VERB</td>\n",
              "      <td>NOUN</td>\n",
              "      <td>DET</td>\n",
              "      <td>NOUN</td>\n",
              "      <td>ADP</td>\n",
              "      <td>VERB</td>\n",
              "      <td>NOUN</td>\n",
              "    </tr>\n",
              "    <tr>\n",
              "      <th>pos_label_expl</th>\n",
              "      <td>proper noun</td>\n",
              "      <td>proper noun</td>\n",
              "      <td>proper noun</td>\n",
              "      <td>verb</td>\n",
              "      <td>noun</td>\n",
              "      <td>determiner</td>\n",
              "      <td>noun</td>\n",
              "      <td>adposition</td>\n",
              "      <td>verb</td>\n",
              "      <td>noun</td>\n",
              "    </tr>\n",
              "  </tbody>\n",
              "</table>\n",
              "</div>"
            ],
            "text/plain": [
              "                            0            1                2         3  \\\n",
              "token                 Natural     Language       Processing  provides   \n",
              "dependency_label     compound     compound            nsubj      ROOT   \n",
              "dep_label_expl       compound     compound  nominal subject      root   \n",
              "pos_label               PROPN        PROPN            PROPN      VERB   \n",
              "pos_label_expl    proper noun  proper noun      proper noun      verb   \n",
              "\n",
              "                              4           5              6  \\\n",
              "token                 computers         the     capability   \n",
              "dependency_label           dobj         det           dobj   \n",
              "dep_label_expl    direct object  determiner  direct object   \n",
              "pos_label                  NOUN         DET           NOUN   \n",
              "pos_label_expl             noun  determiner           noun   \n",
              "\n",
              "                                       7                          8  \\\n",
              "token                                 of              understanding   \n",
              "dependency_label                    prep                      pcomp   \n",
              "dep_label_expl    prepositional modifier  complement of preposition   \n",
              "pos_label                            ADP                       VERB   \n",
              "pos_label_expl                adposition                       verb   \n",
              "\n",
              "                              9  \n",
              "token                      text  \n",
              "dependency_label           dobj  \n",
              "dep_label_expl    direct object  \n",
              "pos_label                  NOUN  \n",
              "pos_label_expl             noun  "
            ]
          },
          "execution_count": 69,
          "metadata": {},
          "output_type": "execute_result"
        }
      ],
      "source": [
        "from spacy import displacy\n",
        "\n",
        "text = (\"Natural Language Processing provides computers the capability of understanding text\")\n",
        "doc = nlp(text)\n",
        "displacy.render(doc, jupyter=True, style='dep')\n",
        "\n",
        "pd.DataFrame(\n",
        "    [(token.text, token.dep_, spacy.explain(token.dep_), token.pos_, spacy.explain(token.pos_)) for token in doc],\n",
        "    columns=[\"token\", \"dependency_label\", \"dep_label_expl\", \"pos_label\" , \"pos_label_expl\"]\n",
        ").T"
      ]
    },
    {
      "cell_type": "code",
      "execution_count": 72,
      "metadata": {
        "colab": {
          "base_uri": "https://localhost:8080/",
          "height": 535
        },
        "id": "KIhP-n9442ds",
        "outputId": "1af7c8b6-32ee-43e3-b82d-2115c36ab1ea"
      },
      "outputs": [
        {
          "data": {
            "image/png": "[encoded data removed]",
            "text/plain": [
              "<Figure size 1000x700 with 1 Axes>"
            ]
          },
          "metadata": {},
          "output_type": "display_data"
        }
      ],
      "source": [
        "from collections import Counter\n",
        "import matplotlib.pyplot as plt\n",
        "\n",
        "text = '''\n",
        "Physics is a fundamental branch of science that seeks to understand the fundamental principles that govern the behavior of the universe. It encompasses a broad range of phenomena, from the smallest subatomic particles to the largest structures in the universe, such as galaxies and black holes.\n",
        "The study of physics is based on a few fundamental concepts, such as space, time, mass, energy, and force. These concepts provide a framework for understanding the behavior of physical systems and the interactions between them.\n",
        "One of the key achievements of physics is the development of a set of mathematical equations that describe the behavior of physical systems. These equations allow physicists to make predictions about the behavior of a system and test those predictions through experimentation.\n",
        "One of the most important concepts in physics is the theory of relativity, which was developed by Albert Einstein in the early 20th century. The theory of relativity explains how the laws of physics are the same for all observers in all inertial frames of reference, regardless of their relative motion. It also explains the nature of gravity as a curvature of spacetime caused by the presence of mass and energy.\n",
        "Another important area of physics is quantum mechanics, which deals with the behavior of particles on a very small scale, such as atoms and subatomic particles. Quantum mechanics is based on the idea that particles can exist in multiple states at the same time, and that the act of measurement can cause a particle to collapse into a single state. This leads to some strange and counterintuitive phenomena, such as entanglement, where the properties of one particle can affect the properties of another particle instantaneously over vast distances.\n",
        "Physics has many practical applications in areas such as engineering, technology, and medicine. For example, the principles of physics are used in the design of bridges, buildings, and other structures, as well as in the development of new technologies such as semiconductors and lasers. In medicine, physics is used in the development of imaging technologies such as X-rays, MRI, and CT scans, as well as in the development of radiation therapy for cancer treatment.\n",
        "In conclusion, physics is a fundamental branch of science that seeks to understand the behavior of the universe through the study of fundamental concepts such as space, time, mass, energy, and force. Its achievements have led to a deeper understanding of the universe and have practical applications that benefit society in many ways.\n",
        "'''.strip()\n",
        "\n",
        "doc = nlp(text)\n",
        "words = [token.text for token in doc if not token.is_punct and not token.is_stop and not token.is_space]\n",
        "word_freq = Counter(words)\n",
        "common_words = word_freq.most_common(30)\n",
        "\n",
        "words = [pair[0] for pair in common_words][::-1]\n",
        "freqs = [pair[1] for pair in common_words][::-1]\n",
        "\n",
        "plt.figure(dpi=100, figsize=(10, 7))\n",
        "plt.barh(words, freqs,  color='orange')\n",
        "plt.xlabel(\"frequency\")\n",
        "plt.ylabel(\"word\")\n",
        "plt.show()"
      ]
    },
    {
      "cell_type": "code",
      "execution_count": 73,
      "metadata": {
        "colab": {
          "base_uri": "https://localhost:8080/"
        },
        "id": "oRQuThwM1Gp7",
        "outputId": "d931ebbe-7aff-49f4-ce6c-43602139b8f1"
      },
      "outputs": [
        {
          "name": "stdout",
          "output_type": "stream",
          "text": [
            "Pipeline: ['doc_len', 'tok2vec', 'tagger', 'parser', 'attribute_ruler', 'lemmatizer', 'ner']\n"
          ]
        }
      ],
      "source": [
        "# Create the nlp object\n",
        "from spacy.language import Language\n",
        "\n",
        "nlp = spacy.load(\"en_core_web_sm\")\n",
        "\n",
        "\n",
        "# Define a custom component\n",
        "@Language.component(\"doc_len\")\n",
        "def doc_len_fn(doc):\n",
        "    print(\"Your Doc length:\", len(doc))\n",
        "    return doc\n",
        "\n",
        "# Add the component first in the pipeline\n",
        "nlp.add_pipe(\"doc_len\", first=True)\n",
        "\n",
        "# Print the pipeline component names\n",
        "print(\"Pipeline:\", nlp.pipe_names)"
      ]
    },
    {
      "cell_type": "code",
      "execution_count": 74,
      "metadata": {
        "colab": {
          "base_uri": "https://localhost:8080/"
        },
        "id": "lTCDoiHb1rXY",
        "outputId": "19ea5032-b4cc-45be-bdb6-0894594b56f8"
      },
      "outputs": [
        {
          "name": "stdout",
          "output_type": "stream",
          "text": [
            "Your Doc length: 10\n"
          ]
        }
      ],
      "source": [
        "text = (\"Natural Language Processing provides computers the capability of understanding text\")\n",
        "doc = nlp(text)"
      ]
    },
    {
      "cell_type": "code",
      "execution_count": 76,
      "metadata": {
        "id": "6zLtCk7zGhyi"
      },
      "outputs": [
        {
          "name": "stdout",
          "output_type": "stream",
          "text": [
            "!\"#$%&'()*+,-./:;<=>?@[\\]^_`{|}~\n",
            "\n"
          ]
        }
      ],
      "source": [
        "from string import punctuation\n",
        "\n",
        "# stopwords = list(STOP_WORDS)\n",
        "punctuation = punctuation + \"\\n\"\n",
        "print(punctuation)"
      ]
    },
    {
      "cell_type": "code",
      "execution_count": 129,
      "metadata": {
        "colab": {
          "base_uri": "https://localhost:8080/"
        },
        "id": "51puzxqYzCFz",
        "outputId": "7760d307-3b9d-4f9c-ae53-726cc86f0316"
      },
      "outputs": [
        {
          "name": "stdout",
          "output_type": "stream",
          "text": [
            "0.8698332283318978\n"
          ]
        }
      ],
      "source": [
        "# Load a larger pipeline with vectors\n",
        "nlp = spacy.load(\"en_core_web_md\")\n",
        "\n",
        "\n",
        "# Compare two documents\n",
        "doc1 = nlp(\"I like fast food\")\n",
        "doc2 = nlp(\"I like pizza\")\n",
        "print(doc1.similarity(doc2))"
      ]
    },
    {
      "cell_type": "code",
      "execution_count": null,
      "metadata": {
        "id": "D1KC0B03zCec"
      },
      "outputs": [],
      "source": []
    }
  ],
  "metadata": {
    "colab": {
      "provenance": []
    },
    "kernelspec": {
      "display_name": "Python 3",
      "name": "python3"
    },
    "language_info": {
      "codemirror_mode": {
        "name": "ipython",
        "version": 3
      },
      "file_extension": ".py",
      "mimetype": "text/x-python",
      "name": "python",
      "nbconvert_exporter": "python",
      "pygments_lexer": "ipython3",
      "version": "3.11.4"
    }
  },
  "nbformat": 4,
  "nbformat_minor": 0
}
