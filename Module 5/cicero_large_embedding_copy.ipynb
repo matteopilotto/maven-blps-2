{
 "cells": [
  {
   "cell_type": "markdown",
   "metadata": {},
   "source": [
    "### Setup"
   ]
  },
  {
   "cell_type": "code",
   "execution_count": 1,
   "metadata": {},
   "outputs": [
    {
     "name": "stdout",
     "output_type": "stream",
     "text": [
      "\u001b[33mWARNING: Running pip as the 'root' user can result in broken permissions and conflicting behaviour with the system package manager. It is recommended to use a virtual environment instead: https://pip.pypa.io/warnings/venv\u001b[0m\u001b[33m\n",
      "\u001b[0m\n",
      "\u001b[1m[\u001b[0m\u001b[34;49mnotice\u001b[0m\u001b[1;39;49m]\u001b[0m\u001b[39;49m A new release of pip is available: \u001b[0m\u001b[31;49m23.1.2\u001b[0m\u001b[39;49m -> \u001b[0m\u001b[32;49m23.2.1\u001b[0m\n",
      "\u001b[1m[\u001b[0m\u001b[34;49mnotice\u001b[0m\u001b[1;39;49m]\u001b[0m\u001b[39;49m To update, run: \u001b[0m\u001b[32;49mpython -m pip install --upgrade pip\u001b[0m\n"
     ]
    }
   ],
   "source": [
    "!pip install -U -q -r requirements.txt"
   ]
  },
  {
   "cell_type": "code",
   "execution_count": 2,
   "metadata": {},
   "outputs": [],
   "source": [
    "import os\n",
    "import random\n",
    "from pathlib import Path\n",
    "import tiktoken\n",
    "from rich.markdown import Markdown\n",
    "import numpy as np\n",
    "from getpass import getpass\n",
    "import torch\n",
    "import csv"
   ]
  },
  {
   "cell_type": "code",
   "execution_count": 3,
   "metadata": {},
   "outputs": [],
   "source": [
    "os.environ[\"OPENAI_API_KEY\"] = getpass(\"Enter OpenAI API Key: \")"
   ]
  },
  {
   "cell_type": "code",
   "execution_count": 42,
   "metadata": {},
   "outputs": [],
   "source": [
    "os.environ[\"LANGCHAIN_WANDB_TRACING\"] = \"true\"\n",
    "os.environ[\"WANDB_PROJECT\"] = \"llmapps\"\n",
    "os.environ[\"WANDB_NOTEBOOK_NAME\"] = \"cicero_large_embedding\""
   ]
  },
  {
   "cell_type": "code",
   "execution_count": 8,
   "metadata": {},
   "outputs": [
    {
     "name": "stderr",
     "output_type": "stream",
     "text": [
      "[nltk_data] Downloading package punkt to /root/nltk_data...\n",
      "[nltk_data]   Package punkt is already up-to-date!\n"
     ]
    },
    {
     "data": {
      "text/plain": [
       "True"
      ]
     },
     "execution_count": 8,
     "metadata": {},
     "output_type": "execute_result"
    }
   ],
   "source": [
    "import nltk\n",
    "\n",
    "from langchain.embeddings.openai import OpenAIEmbeddings\n",
    "from langchain.text_splitter import CharacterTextSplitter, RecursiveCharacterTextSplitter\n",
    "from langchain.vectorstores import Chroma, FAISS\n",
    "from langchain.document_loaders import TextLoader\n",
    "from langchain.llms import OpenAI\n",
    "from langchain.chat_models import ChatOpenAI\n",
    "from langchain import PromptTemplate\n",
    "from langchain.chains import LLMChain\n",
    "from langchain.chains.qa_with_sources import load_qa_with_sources_chain\n",
    "from transformers import BertTokenizer, BertModel\n",
    "\n",
    "\n",
    "nltk.download(\"punkt\")"
   ]
  },
  {
   "cell_type": "code",
   "execution_count": 11,
   "metadata": {},
   "outputs": [],
   "source": [
    "txt = \"\"\"\n",
    "I would like to get your all  thoughts on the bond yield increase this week.  I am not worried about the market downturn but the sudden increase in yields. On 2/16 the 10 year bonds yields increased by almost  9 percent and on 2/19 the yield increased by almost 5 percent.\n",
    "\n",
    "Key Points from the CNBC Article:\n",
    "\n",
    "* **The “taper tantrum” in 2013 was a sudden spike in Treasury yields due to market panic after the Federal Reserve announced that it would begin tapering its quantitative easing program.**\n",
    "* **Major central banks around the world have cut interest rates to historic lows and launched unprecedented quantities of asset purchases in a bid to shore up the economy throughout the pandemic.**\n",
    "* **However, the recent rise in yields suggests that some investors are starting to anticipate a tightening of policy sooner than anticipated to accommodate a potential rise in inflation.**\n",
    "\n",
    "The recent rise in bond yields and U.S. inflation expectations has some investors wary that a repeat of the 2013 “taper tantrum” could be on the horizon.\n",
    "\n",
    "The benchmark U.S. 10-year Treasury note climbed above 1.3% for the first time since February 2020 earlier this week, while the 30-year bond also hit its highest level for a year. Yields move inversely to bond prices.\n",
    "\n",
    "Yields tend to rise in lockstep with inflation expectations, which have reached their highest levels in a decade in the U.S., powered by increased prospects of a large fiscal stimulus package, progress on vaccine rollouts and pent-up consumer demand.\n",
    "\n",
    "The “taper tantrum” in 2013 was a sudden spike in Treasury yields due to market panic after the Federal Reserve announced that it would begin tapering its quantitative easing program.\n",
    "\n",
    "Major central banks around the world have cut interest rates to historic lows and launched unprecedented quantities of asset purchases in a bid to shore up the economy throughout the pandemic. The Fed and others have maintained supportive tones in recent policy meetings, vowing to keep financial conditions loose as the global economy looks to emerge from the Covid-19 pandemic.\n",
    "\n",
    "However, the recent rise in yields suggests that some investors are starting to anticipate a tightening of policy sooner than anticipated to accommodate a potential rise in inflation.\n",
    "\n",
    "With central bank support removed, bonds usually fall in price which sends yields higher. This can also spill over into stock markets as higher interest rates means more debt servicing for firms, causing traders to reassess the investing environment.\n",
    "\n",
    "“The supportive stance from policymakers will likely remain in place until the vaccines have paved a way to some return to normality,” said Shane Balkham, chief investment officer at Beaufort Investment, in a research note this week.\n",
    "\n",
    "“However, there will be a risk of another ‘taper tantrum’ similar to the one we witnessed in 2013, and this is our main focus for 2021,” Balkham projected, should policymakers begin to unwind this stimulus.\n",
    "\n",
    "Long-term bond yields in Japan and Europe followed U.S. Treasurys higher toward the end of the week as bondholders shifted their portfolios.\n",
    "\n",
    "“The fear is that these assets are priced to perfection when the ECB and Fed might eventually taper,” said Sebastien Galy, senior macro strategist at Nordea Asset Management, in a research note entitled “Little taper tantrum.”\n",
    "\n",
    "“The odds of tapering are helped in the United States by better retail sales after four months of disappointment and the expectation of large issuance from the $1.9 trillion fiscal package.”\n",
    "\n",
    "Galy suggested the Fed would likely extend the duration on its asset purchases, moderating the upward momentum in inflation.\n",
    "\n",
    "“Equity markets have reacted negatively to higher yield as it offers an alternative to the dividend yield and a higher discount to long-term cash flows, making them focus more on medium-term growth such as cyclicals” he said. Cyclicals are stocks whose performance tends to align with economic cycles.\n",
    "\n",
    "Galy expects this process to be more marked in the second half of the year when economic growth picks up, increasing the potential for tapering.\n",
    "\n",
    "## Tapering in the U.S., but not Europe\n",
    "\n",
    "Allianz CEO Oliver Bäte told CNBC on Friday that there was a geographical divergence in how the German insurer is thinking about the prospect of interest rate hikes.\n",
    "\n",
    "“One is Europe, where we continue to have financial repression, where the ECB continues to buy up to the max in order to minimize spreads between the north and the south — the strong balance sheets and the weak ones — and at some point somebody will have to pay the price for that, but in the short term I don’t see any spike in interest rates,” Bäte said, adding that the situation is different stateside.\n",
    "\n",
    "“Because of the massive programs that have happened, the stimulus that is happening, the dollar being the world’s reserve currency, there is clearly a trend to stoke inflation and it is going to come. Again, I don’t know when and how, but the interest rates have been steepening and they should be steepening further.”\n",
    "\n",
    "## Rising yields a ‘normal feature’\n",
    "\n",
    "However, not all analysts are convinced that the rise in bond yields is material for markets. In a note Friday, Barclays Head of European Equity Strategy Emmanuel Cau suggested that rising bond yields were overdue, as they had been lagging the improving macroeconomic outlook for the second half of 2021, and said they were a “normal feature” of economic recovery.\n",
    "\n",
    "“With the key drivers of inflation pointing up, the prospect of even more fiscal stimulus in the U.S. and pent up demand propelled by high excess savings, it seems right for bond yields to catch-up with other more advanced reflation trades,” Cau said, adding that central banks remain “firmly on hold” given the balance of risks.\n",
    "\n",
    "He argued that the steepening yield curve is “typical at the early stages of the cycle,” and that so long as vaccine rollouts are successful, growth continues to tick upward and central banks remain cautious, reflationary moves across asset classes look “justified” and equities should be able to withstand higher rates.\n",
    "\n",
    "“Of course, after the strong move of the last few weeks, equities could mark a pause as many sectors that have rallied with yields look overbought, like commodities and banks,” Cau said.\n",
    "\n",
    "“But at this stage, we think rising yields are more a confirmation of the equity bull market than a threat, so dips should continue to be bought.\n",
    "\"\"\".strip()"
   ]
  },
  {
   "cell_type": "code",
   "execution_count": 10,
   "metadata": {},
   "outputs": [],
   "source": [
    "# \"uncased\" means it doesn't make a difference between \"model\" and \"Model\"\n",
    "model_id = \"bert-base-uncased\"\n",
    "\n",
    "bert_tokenizer = BertTokenizer.from_pretrained(model_id)\n",
    "bert_model = BertModel.from_pretrained(model_id)"
   ]
  },
  {
   "cell_type": "code",
   "execution_count": 23,
   "metadata": {},
   "outputs": [
    {
     "data": {
      "text/plain": [
       "torch.Size([1, 512])"
      ]
     },
     "execution_count": 23,
     "metadata": {},
     "output_type": "execute_result"
    }
   ],
   "source": [
    "text_tokenized = bert_tokenizer.encode(txt, padding=True, truncation=True, return_tensors=\"pt\")\n",
    "text_tokenized.shape"
   ]
  },
  {
   "cell_type": "code",
   "execution_count": 25,
   "metadata": {},
   "outputs": [
    {
     "data": {
      "text/plain": [
       "torch.Size([1, 512, 768])"
      ]
     },
     "execution_count": 25,
     "metadata": {},
     "output_type": "execute_result"
    }
   ],
   "source": [
    "with torch.inference_mode():\n",
    "    bert_output = bert_model(text_tokenized)\n",
    "\n",
    "token_embeddings = bert_output.last_hidden_state\n",
    "token_embeddings.shape"
   ]
  },
  {
   "cell_type": "code",
   "execution_count": 36,
   "metadata": {},
   "outputs": [
    {
     "name": "stdout",
     "output_type": "stream",
     "text": [
      "torch.Size([1, 768])\n"
     ]
    },
    {
     "data": {
      "text/plain": [
       "tensor([[-3.4370e-01, -2.6878e-01,  4.5390e-01,  9.1782e-02,  3.2367e-01,\n",
       "         -1.6420e-01, -1.1108e-01,  5.3217e-01, -1.9182e-01, -2.9239e-02,\n",
       "          1.9545e-01, -2.2920e-01, -2.6688e-01,  3.6670e-01, -9.1278e-02,\n",
       "          1.9423e-01,  3.3161e-01, -1.7995e-02, -3.0783e-02,  2.4883e-01,\n",
       "          2.6420e-01, -1.5116e-01,  2.7700e-01,  7.3954e-01,  3.1077e-01,\n",
       "         -3.2377e-01, -2.0915e-01, -1.5393e-01, -2.5100e-01, -8.5521e-02,\n",
       "          4.6696e-01,  2.0274e-01, -2.2786e-01, -8.8018e-02,  4.1402e-01,\n",
       "          9.6118e-02, -2.6970e-01, -3.3411e-01, -1.8252e-01,  1.3497e-01,\n",
       "         -6.0556e-01, -4.3499e-01, -1.3769e-01,  2.0354e-01, -4.0769e-01,\n",
       "         -2.7990e-01,  1.7938e-01, -8.2002e-02,  1.7474e-01, -6.5277e-02,\n",
       "         -4.2070e-01,  2.4607e-01,  1.2269e-01, -4.0680e-01,  2.1800e-01,\n",
       "          5.1290e-01, -2.2289e-01, -4.2598e-01, -5.6073e-01, -4.4647e-01,\n",
       "          2.6121e-01, -1.7192e-01, -5.6021e-02, -5.4155e-01, -1.7537e-01,\n",
       "          7.5585e-02,  2.0123e-01,  4.6332e-01, -7.1713e-01, -2.6470e-01,\n",
       "         -3.4631e-01, -4.9224e-02, -1.6961e-01, -1.9637e-01, -1.7402e-01,\n",
       "          1.7311e-01, -2.8278e-01,  2.9795e-01, -2.9977e-02, -1.3561e-01,\n",
       "         -2.3143e-01,  4.6112e-01, -7.7758e-02,  2.6386e-01,  6.9035e-03,\n",
       "         -3.1375e-02,  2.6860e-01,  1.3541e-01, -2.5499e-01,  9.3251e-01,\n",
       "         -4.4472e-02, -2.8219e-01,  5.6669e-02,  9.3766e-02, -1.0296e-01,\n",
       "          7.3619e-02,  3.2709e-01, -4.1129e-02, -3.0096e-01,  3.6712e-01,\n",
       "          3.0337e-01, -3.2735e-01,  2.6335e-01,  1.1622e-01,  2.8384e-02,\n",
       "         -6.7770e-02,  7.8567e-02, -3.0491e-03, -2.2265e-01,  1.7335e-01,\n",
       "          1.6330e-01, -8.6597e-02, -2.7617e-01, -3.7159e-01, -1.1824e-01,\n",
       "         -8.3939e-02,  2.6572e-02, -3.8440e-02,  2.3515e-02, -1.5856e-02,\n",
       "          7.3061e-02, -1.0843e-01,  1.5562e-01,  5.8210e-01, -2.2113e-01,\n",
       "         -6.1535e-02,  2.1939e-02,  2.4597e-01, -7.4763e-02, -2.2266e-01,\n",
       "          2.5597e-02,  3.7241e-01,  1.4476e-02, -4.3462e-01, -2.4113e-01,\n",
       "          2.8102e-01, -4.0260e-02, -2.7044e-01, -2.0467e-01,  2.1434e-01,\n",
       "          2.9734e-01, -3.8103e-01,  4.8285e-01,  2.6765e-02,  5.3676e-03,\n",
       "         -1.1905e-02,  1.0577e-02, -2.6709e-01, -2.1326e-01,  2.1620e-01,\n",
       "          1.9586e-01, -9.3162e-02, -7.2118e-02, -6.9862e-02, -3.5710e-02,\n",
       "         -3.7058e-01, -3.0155e-01,  2.1547e-01,  2.9406e-02,  1.4166e-01,\n",
       "          3.4971e-01,  2.0874e-01, -1.1932e-02,  9.1528e-02,  6.5921e-02,\n",
       "          2.3030e-01,  2.3416e-01,  4.3090e-01, -3.1715e-01,  3.8524e-01,\n",
       "         -1.7862e-01,  2.3766e-01,  9.4439e-01, -6.3142e-02,  3.1102e-01,\n",
       "          1.5703e-01,  7.6252e-02,  7.7018e-02,  2.6113e-01,  3.1678e-01,\n",
       "         -7.4872e-01,  1.1033e-01,  2.5872e-01, -1.6553e-02,  2.8902e-01,\n",
       "         -1.6827e-01,  1.8025e-01, -1.9804e-01,  5.5918e-01, -3.5400e-01,\n",
       "         -3.3365e-01, -1.3608e-01, -2.1196e-01,  6.9008e-02,  9.2363e-02,\n",
       "         -5.0581e-01,  2.3213e-01,  1.0887e-01, -2.7378e-01, -3.0000e-01,\n",
       "         -1.2413e-01,  6.5618e-02,  3.2425e-01,  2.3245e-01,  2.3700e-01,\n",
       "         -5.6577e-01,  1.0572e-01, -2.5142e-01,  3.7952e-04,  2.1181e-01,\n",
       "         -1.5700e-01,  3.6651e-01, -1.4241e-01,  2.0406e-01, -5.8547e-02,\n",
       "          4.4592e-02, -7.6106e-02, -1.8213e-01, -6.6229e-02,  1.1584e-01,\n",
       "         -2.2696e-01,  1.8211e-01, -2.6463e-01,  4.2996e-01, -9.5486e-02,\n",
       "          5.8980e-01,  4.6240e-02, -7.0220e-01,  1.2194e-01,  6.6803e-01,\n",
       "         -2.2138e-02, -4.4108e-01,  4.6951e-01, -2.1697e-01, -5.4979e-02,\n",
       "          4.8059e-02, -6.4483e-01, -3.2732e-01,  2.4532e-02, -5.4034e-01,\n",
       "         -1.5130e-02,  3.5367e-01,  2.0930e-01,  3.2544e-01, -7.2018e-02,\n",
       "         -1.8755e-01,  2.2535e-01,  1.3114e-01, -3.3684e-01, -4.0129e-01,\n",
       "         -5.0759e-01, -1.8944e-01,  9.8218e-02, -2.0896e-01, -7.9771e-02,\n",
       "         -2.5329e-01,  1.3829e-02, -2.3214e-01, -1.0168e-01,  1.5027e-01,\n",
       "          3.9002e-01,  3.0699e-02,  7.9006e-03,  1.5019e-01, -2.0185e-01,\n",
       "         -4.6799e-01,  8.5019e-02,  1.8027e-01,  1.5480e-01, -2.4503e-02,\n",
       "          1.3999e-01, -2.1160e-01, -1.0394e-01,  8.8894e-01, -1.6609e-01,\n",
       "         -3.4963e-01,  3.2117e-01,  1.3452e-01, -2.1821e-02, -1.4417e-01,\n",
       "          2.3884e-01,  4.4212e-01, -7.4733e-02, -9.2037e-02, -1.8067e-01,\n",
       "         -4.3244e-01,  2.9654e-01,  1.9073e-01,  6.9104e-02, -2.1899e-01,\n",
       "         -2.3532e-01, -1.2165e-01, -3.6566e-01, -2.5566e-01,  2.3937e-02,\n",
       "          9.5887e-02,  9.8076e-02,  2.3982e-01,  4.2787e-01, -2.3514e-03,\n",
       "         -8.4979e-02, -4.4946e-01,  2.9041e-01,  2.1603e-01, -1.8862e-01,\n",
       "          1.6723e-01,  1.8107e-02, -2.7066e-01, -2.9743e+00,  1.6549e-01,\n",
       "          1.4969e-01, -5.3491e-01,  1.7262e-01,  2.5644e-02, -7.7967e-02,\n",
       "         -7.0777e-02, -3.7276e-01, -2.7588e-02,  2.4868e-02, -4.4770e-01,\n",
       "          1.7561e-01,  2.5321e-01,  9.7076e-02, -1.8337e-01,  3.2638e-01,\n",
       "         -1.9052e-01, -4.2414e-02,  4.0675e-01, -1.3740e-01, -5.3628e-01,\n",
       "          2.1926e-02, -1.1131e-01,  3.9747e-01,  4.0476e-01, -2.4083e-01,\n",
       "         -4.0832e-01, -1.5539e-01, -1.8985e-01,  7.9077e-02, -2.5929e-01,\n",
       "          3.3061e-01,  2.8255e-01,  8.3555e-03,  1.0751e-01,  2.7736e-02,\n",
       "         -3.1128e-01, -3.2546e-01, -3.9822e-01, -1.6013e-01, -5.7946e-01,\n",
       "         -1.3853e-01,  3.0491e-02,  8.7950e-01,  9.3416e-02,  1.6632e-02,\n",
       "         -1.3724e-01,  2.5076e-02,  9.5267e-03,  2.2783e-01,  2.1880e-01,\n",
       "         -6.5857e-01, -1.5582e-01, -6.3250e-02,  2.5414e-01,  3.2829e-01,\n",
       "          3.4666e-01, -1.3947e-01, -2.0191e-01,  9.8118e-02, -1.6321e-01,\n",
       "         -3.2739e-01,  8.9029e-02,  1.2055e-01, -5.5258e-01, -4.3702e-01,\n",
       "         -1.1428e-02,  3.9589e-02,  2.9521e-02, -1.7121e-02,  4.6988e-01,\n",
       "         -3.0132e-01, -1.9369e-01,  9.8312e-02, -5.3688e-01,  2.6185e-01,\n",
       "         -2.0245e-01,  2.0607e-01, -9.1591e-02, -1.5855e-01, -2.5900e-01,\n",
       "          6.5308e-02, -2.0681e-01,  1.1326e-01, -3.6199e-01,  6.1367e-02,\n",
       "         -8.7694e-02, -3.8390e-01, -7.0095e-01,  1.3979e-01, -7.7238e-02,\n",
       "          1.3782e-01, -5.8988e-02,  2.1437e-01, -3.7860e-01,  3.1019e-01,\n",
       "          1.4125e-01, -6.3923e-02, -2.4741e-01, -5.9976e-02, -7.0594e-02,\n",
       "          4.5650e-01, -2.3671e-01,  6.3366e-02, -3.0553e-03, -8.8228e-02,\n",
       "          2.6803e-01, -2.5096e-02, -1.9158e-01,  1.5391e-01, -4.0833e-01,\n",
       "          5.8978e-01, -4.0748e-01,  1.0455e-01,  7.3746e-02,  2.9957e-01,\n",
       "          6.3448e-01, -1.0355e-01, -2.0553e-01, -7.3959e-03,  3.9873e-01,\n",
       "         -1.9143e-01, -3.0766e-01, -8.8758e-02, -3.0409e-02, -3.0379e-01,\n",
       "         -1.1101e-01,  2.3596e-03, -8.6360e-03, -1.5382e-01, -1.3172e-01,\n",
       "         -1.7869e-01,  3.1602e-01,  2.6675e-01, -5.1861e-03,  4.1596e-02,\n",
       "         -5.0053e-01,  1.7643e-02,  2.2586e-01, -7.2325e-03,  5.0230e-01,\n",
       "         -7.9892e-02, -1.9360e-01, -1.9518e-01,  3.1962e-01,  2.1978e-01,\n",
       "          2.0981e-01, -1.7958e-01,  5.8391e-02, -5.9734e-01, -1.2668e-01,\n",
       "         -8.7148e-02, -3.4904e-01,  8.7097e-02,  5.2515e-01,  3.1314e-01,\n",
       "         -8.9315e-02,  3.8240e-02, -7.3606e-01,  2.4005e-01,  1.3610e-01,\n",
       "          1.5984e-01,  8.7546e-02, -1.7787e-01,  4.2748e-01, -1.4255e-01,\n",
       "         -1.7431e-01,  1.0998e-02, -5.3550e-02, -2.6736e-01, -2.5439e-01,\n",
       "          4.4956e-02, -3.5248e-01, -9.6880e-02,  2.9883e-01,  1.2326e-01,\n",
       "         -4.0559e-01, -7.5465e-02,  2.1476e-01, -8.9667e-02, -2.0271e-01,\n",
       "         -2.5843e-01, -3.9379e-03,  4.3987e-01,  1.1597e-01,  1.2194e-01,\n",
       "         -7.1052e-02, -8.8452e-02,  4.5724e-02,  1.1129e-01,  3.8084e-01,\n",
       "         -4.4022e-03,  7.7049e-02, -3.3511e-01, -1.9909e-01,  3.7989e-01,\n",
       "         -1.7881e-01, -1.7850e-01,  2.4091e-01,  2.6118e-01, -1.1958e-01,\n",
       "         -2.2665e-01,  8.0321e-02,  7.2597e-02,  1.7102e-01, -4.4734e-02,\n",
       "          4.3357e-01, -1.7655e-02,  9.4071e-02, -4.9524e-01, -2.8901e-01,\n",
       "         -5.3463e-01,  3.0498e-01,  4.9171e-01, -5.6614e-01, -3.3227e-01,\n",
       "         -3.0589e-01, -3.7499e-01,  2.8344e-01, -5.4232e-02, -1.6535e-01,\n",
       "          9.9049e-02, -1.3141e-01, -2.5900e-01, -3.8538e-01, -1.4597e-01,\n",
       "          1.1952e-02, -8.2862e-02, -1.6303e-01, -5.1053e-02, -9.9936e-01,\n",
       "          9.7383e-02,  3.3633e-01, -1.8977e-01,  4.1977e-01, -2.8489e-01,\n",
       "         -5.8668e-01, -3.4384e-02, -1.7771e-01, -3.7528e-01,  1.3061e-01,\n",
       "         -4.0698e-02, -3.5402e-01,  2.1394e-02,  1.9379e-01, -3.8795e-02,\n",
       "          5.4531e-01,  9.4060e-02,  6.6003e-01, -1.0728e-01,  2.1900e-01,\n",
       "          3.2568e-02, -1.7194e-01, -1.0214e-02, -2.6141e-01, -3.2471e-01,\n",
       "         -3.1626e-01, -4.5071e-01,  2.9400e-02, -2.9632e-02, -3.4556e-01,\n",
       "         -1.0240e-01,  2.3822e-01,  6.0963e-01,  7.0380e-02, -5.1592e-02,\n",
       "          6.8865e-02,  1.5848e-01, -5.1253e-01,  7.0082e-02, -3.4170e-01,\n",
       "         -1.9243e-01, -3.8194e-01,  1.1521e-01,  2.2548e-01,  5.8295e-03,\n",
       "         -6.7972e-01,  5.1323e-02, -5.3296e-01, -3.6737e-01, -1.7132e-01,\n",
       "         -1.2458e-02, -1.8055e-01,  1.9462e-01, -4.1667e-01, -2.3050e-01,\n",
       "          3.6689e-01, -2.6695e-02, -2.2264e-01,  3.9083e-01, -4.6280e-02,\n",
       "         -2.1053e-01,  4.1709e-02, -3.0532e-01,  2.2729e-01,  8.4730e-01,\n",
       "          1.7754e-01, -1.0451e-01,  1.8852e-01,  3.3074e-02, -1.5435e-02,\n",
       "          3.9135e-01,  2.6714e-01, -8.5278e-02,  5.2919e-02, -5.7640e-02,\n",
       "         -4.0190e-01, -3.6894e-02,  5.8741e-02, -7.3583e-02, -2.6616e-01,\n",
       "          5.1128e-01,  2.8607e-01, -1.6982e-01, -3.1775e-02, -2.1795e-01,\n",
       "         -5.7312e-03, -1.4826e-02,  1.8043e-01,  1.6525e-01,  2.8565e-01,\n",
       "          3.3438e-01, -1.3197e-01,  4.0350e-01,  3.1619e-01,  8.6303e-02,\n",
       "         -2.0831e-01,  2.8237e-02,  4.0683e-01, -1.0361e-01,  4.7747e-01,\n",
       "         -2.2241e-01,  2.6784e-01, -8.6177e-02, -2.5422e-01, -2.8142e-02,\n",
       "         -7.2762e-02,  7.8074e-02, -3.4562e-03,  1.8670e-01, -7.1012e-02,\n",
       "          4.5878e-01,  3.2366e-01,  2.8490e-01, -5.0293e-03,  2.4950e-01,\n",
       "          1.3011e-02,  5.2330e-01,  5.2695e-01,  2.5423e-01,  6.6553e-02,\n",
       "         -3.9564e-02, -2.1434e-01,  2.2005e-01,  7.7314e-02,  2.5647e-01,\n",
       "          4.3973e-01,  2.2085e-01,  4.9486e-01,  1.7099e-01,  2.0530e-01,\n",
       "          6.9383e-01, -4.5809e-01, -7.8477e-02,  2.0479e-02,  1.1231e-01,\n",
       "         -4.6708e-02, -3.7821e-02, -1.3662e-01,  2.1572e-01,  1.2602e-01,\n",
       "         -1.5627e-01, -4.3372e-01,  1.1093e-01,  3.9021e-01, -1.2420e-01,\n",
       "         -6.7588e-02, -3.8366e-02,  4.0953e-01, -3.3306e-01,  3.4696e-02,\n",
       "         -3.0604e-01, -1.8708e-01, -2.7719e-01, -2.1982e-01, -8.4629e-02,\n",
       "         -7.9531e-02, -2.7780e-01, -3.8403e-01,  1.7023e-01, -2.4007e-01,\n",
       "          3.2673e-01, -1.1462e-01,  2.4662e-02, -2.9612e-01,  4.7675e-01,\n",
       "          1.8034e-01,  5.0115e-01,  1.4180e-01,  9.0381e-02, -3.6206e-01,\n",
       "         -3.7564e-01,  1.7461e-01,  2.2289e-01, -2.1743e-02,  1.5343e-02,\n",
       "          1.2024e-01, -2.3594e-01, -1.9713e-02,  2.9472e-01,  3.9976e-01,\n",
       "         -3.9236e-01,  2.6117e-01, -1.6251e-01, -3.0118e-01,  3.7734e-02,\n",
       "          1.5303e-01, -1.7025e-01, -2.7824e-01, -2.2571e-01, -3.6946e-01,\n",
       "          6.0135e-02, -7.4485e-02, -2.7414e-01,  4.9066e-02,  2.3447e-01,\n",
       "          2.3074e-01, -9.5604e-02,  2.0861e-02, -3.9063e-01,  1.0866e-02,\n",
       "          7.6319e-02,  4.2378e-02, -1.9388e-01, -3.0036e-01,  9.3748e-02,\n",
       "          9.4179e-02, -3.9801e-01,  1.0040e-01,  2.6825e-01,  3.2730e-01,\n",
       "         -8.7340e-02, -3.5762e-01,  9.3883e-01, -6.6301e-02, -2.5053e-01,\n",
       "         -2.2256e-01, -1.6114e-01, -1.8699e-01, -1.0125e-01,  1.9344e-02,\n",
       "         -5.0701e-02, -1.7299e-01,  1.1845e-01, -5.5536e-01,  1.0809e-02,\n",
       "         -9.5691e-02,  1.6417e-02, -2.0009e-01]])"
      ]
     },
     "execution_count": 36,
     "metadata": {},
     "output_type": "execute_result"
    }
   ],
   "source": [
    "text_embedding = token_embeddings.mean(dim=1)\n",
    "print(text_embedding.shape)\n",
    "text_embedding[:3]"
   ]
  },
  {
   "cell_type": "code",
   "execution_count": 41,
   "metadata": {},
   "outputs": [
    {
     "data": {
      "text/html": [
       "<pre style=\"white-space:pre;overflow-x:auto;line-height:normal;font-family:Menlo,'DejaVu Sans Mono',consolas,'Courier New',monospace\">i would like to get your all thoughts on the bond yield increase this week. i am not worried about the market      \n",
       "downturn but the sudden increase in yields. on 2 / 16 the 10 year bonds yields increased by almost 9 percent and on\n",
       "2 / 19 the yield increased by almost 5 percent. key points from the cnbc article : * * * the “ taper tantrum ” in  \n",
       "2013 was a sudden spike in treasury yields due to market panic after the federal reserve announced that it would   \n",
       "begin tapering its quantitative easing program. * * * * * major central banks around the world have cut interest   \n",
       "rates to historic lows and launched unprecedented quantities of asset purchases in a bid to shore up the economy   \n",
       "throughout the pandemic. * * * * * however, the recent rise in yields suggests that some investors are starting to \n",
       "anticipate a tightening of policy sooner than anticipated to accommodate a potential rise in inflation. * * the    \n",
       "recent rise in bond yields and u. s. inflation expectations has some investors wary that a repeat of the 2013 “    \n",
       "taper tantrum ” could be on the horizon. the benchmark u. s. 10 - year treasury note climbed above 1. 3 % for the  \n",
       "first time since february 2020 earlier this week, while the 30 - year bond also hit its highest level for a year.  \n",
       "yields move inversely to bond prices. yields tend to rise in lockstep with inflation expectations, which have      \n",
       "reached their highest levels in a decade in the u. s., powered by increased prospects of a large fiscal stimulus   \n",
       "package, progress on vaccine rollouts and pent - up consumer demand. the “ taper tantrum ” in 2013 was a sudden    \n",
       "spike in treasury yields due to market panic after the federal reserve announced that it would begin tapering its  \n",
       "quantitative easing program. major central banks around the world have cut interest rates to historic lows and     \n",
       "launched unprecedented quantities of asset purchases in a bid to shore up the economy throughout the pandemic. the \n",
       "fed and others have maintained supportive tones in recent policy meetings, vowing to keep financial conditions     \n",
       "loose as the global economy looks to emerge from the covid - 19 pandemic. however, the recent rise in yields       \n",
       "suggests that some investors are starting to anticipate a tightening of policy sooner than anticipated to          \n",
       "accommodate a potential rise in inflation. with central bank support removed, bonds usually fall in price which    \n",
       "sends yields higher. this can also spill over into stock markets as higher interest rates means more debt servicing\n",
       "for firms, causing traders to reassess the investing environment. “                                                \n",
       "</pre>\n"
      ],
      "text/plain": [
       "i would like to get your all thoughts on the bond yield increase this week. i am not worried about the market      \n",
       "downturn but the sudden increase in yields. on 2 / 16 the 10 year bonds yields increased by almost 9 percent and on\n",
       "2 / 19 the yield increased by almost 5 percent. key points from the cnbc article : * * * the “ taper tantrum ” in  \n",
       "2013 was a sudden spike in treasury yields due to market panic after the federal reserve announced that it would   \n",
       "begin tapering its quantitative easing program. * * * * * major central banks around the world have cut interest   \n",
       "rates to historic lows and launched unprecedented quantities of asset purchases in a bid to shore up the economy   \n",
       "throughout the pandemic. * * * * * however, the recent rise in yields suggests that some investors are starting to \n",
       "anticipate a tightening of policy sooner than anticipated to accommodate a potential rise in inflation. * * the    \n",
       "recent rise in bond yields and u. s. inflation expectations has some investors wary that a repeat of the 2013 “    \n",
       "taper tantrum ” could be on the horizon. the benchmark u. s. 10 - year treasury note climbed above 1. 3 % for the  \n",
       "first time since february 2020 earlier this week, while the 30 - year bond also hit its highest level for a year.  \n",
       "yields move inversely to bond prices. yields tend to rise in lockstep with inflation expectations, which have      \n",
       "reached their highest levels in a decade in the u. s., powered by increased prospects of a large fiscal stimulus   \n",
       "package, progress on vaccine rollouts and pent - up consumer demand. the “ taper tantrum ” in 2013 was a sudden    \n",
       "spike in treasury yields due to market panic after the federal reserve announced that it would begin tapering its  \n",
       "quantitative easing program. major central banks around the world have cut interest rates to historic lows and     \n",
       "launched unprecedented quantities of asset purchases in a bid to shore up the economy throughout the pandemic. the \n",
       "fed and others have maintained supportive tones in recent policy meetings, vowing to keep financial conditions     \n",
       "loose as the global economy looks to emerge from the covid - 19 pandemic. however, the recent rise in yields       \n",
       "suggests that some investors are starting to anticipate a tightening of policy sooner than anticipated to          \n",
       "accommodate a potential rise in inflation. with central bank support removed, bonds usually fall in price which    \n",
       "sends yields higher. this can also spill over into stock markets as higher interest rates means more debt servicing\n",
       "for firms, causing traders to reassess the investing environment. “                                                \n"
      ]
     },
     "execution_count": 41,
     "metadata": {},
     "output_type": "execute_result"
    }
   ],
   "source": [
    "text_decoded = bert_tokenizer.decode(text_tokenized[0], skip_special_tokens=True)\n",
    "Markdown(text_decoded)"
   ]
  },
  {
   "cell_type": "code",
   "execution_count": 43,
   "metadata": {},
   "outputs": [],
   "source": [
    "MODEL_NAME = \"text-davinci-003\""
   ]
  },
  {
   "cell_type": "code",
   "execution_count": null,
   "metadata": {},
   "outputs": [],
   "source": []
  }
 ],
 "metadata": {
  "kernelspec": {
   "display_name": "Python 3",
   "language": "python",
   "name": "python3"
  },
  "language_info": {
   "codemirror_mode": {
    "name": "ipython",
    "version": 3
   },
   "file_extension": ".py",
   "mimetype": "text/x-python",
   "name": "python",
   "nbconvert_exporter": "python",
   "pygments_lexer": "ipython3",
   "version": "3.10.6"
  },
  "orig_nbformat": 4
 },
 "nbformat": 4,
 "nbformat_minor": 2
}
