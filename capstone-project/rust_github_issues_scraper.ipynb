{
 "cells": [
  {
   "cell_type": "markdown",
   "metadata": {},
   "source": []
  },
  {
   "cell_type": "markdown",
   "metadata": {},
   "source": [
    "## Setup"
   ]
  },
  {
   "cell_type": "code",
   "execution_count": 43,
   "metadata": {},
   "outputs": [],
   "source": [
    "import requests\n",
    "import os\n",
    "from getpass import getpass\n",
    "from bs4 import BeautifulSoup\n",
    "import pandas as pd\n",
    "import json\n",
    "import ast\n",
    "from tqdm.auto import tqdm\n",
    "from IPython.display import display, Markdown\n",
    "from datasets import Dataset\n",
    "\n",
    "os.environ[\"GITHUB_TOKEN\"] = getpass(\"\")"
   ]
  },
  {
   "cell_type": "markdown",
   "metadata": {},
   "source": [
    "## Collect issue urls"
   ]
  },
  {
   "cell_type": "code",
   "execution_count": 6,
   "metadata": {},
   "outputs": [
    {
     "data": {
      "application/vnd.jupyter.widget-view+json": {
       "model_id": "620c6659bdab4ce3a2444eeeda91e335",
       "version_major": 2,
       "version_minor": 0
      },
      "text/plain": [
       "  0%|          | 0/3 [00:00<?, ?it/s]"
      ]
     },
     "metadata": {},
     "output_type": "display_data"
    }
   ],
   "source": [
    "URL = \"https://github.com/rust-lang/rust/issues?page={}&q=is%3Aopen+is%3Aissue+label%3AS-tracking-needs-summary\"\n",
    "issue_url_collector = []\n",
    "\n",
    "for page_num in tqdm(range(1, 4)):\n",
    "    response = requests.get(URL.format(page_num))\n",
    "    soup = BeautifulSoup(response.content, \"html.parser\")\n",
    "    urls = soup.find_all(\"a\", class_=\"Link--primary v-align-middle no-underline h4 js-navigation-open markdown-title\")\n",
    "    issue_urls = [\"https://api.github.com/repos/rust-lang/rust/issues/\" + x[\"href\"].split(\"/\")[-1] for x in urls]\n",
    "    issue_url_collector.extend(issue_urls)"
   ]
  },
  {
   "cell_type": "markdown",
   "metadata": {},
   "source": [
    "## Collect issue main content"
   ]
  },
  {
   "cell_type": "code",
   "execution_count": 13,
   "metadata": {},
   "outputs": [
    {
     "data": {
      "application/vnd.jupyter.widget-view+json": {
       "model_id": "91117e2d551d4cf0aa30217e45d2602d",
       "version_major": 2,
       "version_minor": 0
      },
      "text/plain": [
       "  0%|          | 0/52 [00:00<?, ?it/s]"
      ]
     },
     "metadata": {},
     "output_type": "display_data"
    }
   ],
   "source": [
    "headers = {\"Authorization\": f\"token {os.getenv('GITHUB_TOKEN')}\"}\n",
    "issue_data = []\n",
    "\n",
    "for issue_url in tqdm(issue_url_collector):\n",
    "    response = requests.get(issue_url, headers=headers)\n",
    "    issue = response.json()\n",
    "    issue_short = {k: v for k, v in issue.items() if k in [\"url\", \"comments_url\", \"html_url\"]}\n",
    "    issue_short[\"labels\"] = \"<|endoftext|>\".join([x[\"name\"] for x in issue[\"labels\"]])\n",
    "    issue_data.append(issue_short)"
   ]
  },
  {
   "cell_type": "code",
   "execution_count": 14,
   "metadata": {},
   "outputs": [],
   "source": [
    "df = pd.DataFrame.from_dict(issue_data)"
   ]
  },
  {
   "cell_type": "code",
   "execution_count": 15,
   "metadata": {},
   "outputs": [
    {
     "data": {
      "text/html": [
       "<div>\n",
       "<style scoped>\n",
       "    .dataframe tbody tr th:only-of-type {\n",
       "        vertical-align: middle;\n",
       "    }\n",
       "\n",
       "    .dataframe tbody tr th {\n",
       "        vertical-align: top;\n",
       "    }\n",
       "\n",
       "    .dataframe thead th {\n",
       "        text-align: right;\n",
       "    }\n",
       "</style>\n",
       "<table border=\"1\" class=\"dataframe\">\n",
       "  <thead>\n",
       "    <tr style=\"text-align: right;\">\n",
       "      <th></th>\n",
       "      <th>url</th>\n",
       "      <th>comments_url</th>\n",
       "      <th>html_url</th>\n",
       "      <th>labels</th>\n",
       "    </tr>\n",
       "  </thead>\n",
       "  <tbody>\n",
       "    <tr>\n",
       "      <th>0</th>\n",
       "      <td>https://api.github.com/repos/rust-lang/rust/is...</td>\n",
       "      <td>https://api.github.com/repos/rust-lang/rust/is...</td>\n",
       "      <td>https://github.com/rust-lang/rust/issues/97362</td>\n",
       "      <td>T-lang&lt;|endoftext|&gt;C-tracking-issue&lt;|endoftext...</td>\n",
       "    </tr>\n",
       "    <tr>\n",
       "      <th>1</th>\n",
       "      <td>https://api.github.com/repos/rust-lang/rust/is...</td>\n",
       "      <td>https://api.github.com/repos/rust-lang/rust/is...</td>\n",
       "      <td>https://github.com/rust-lang/rust/issues/92827</td>\n",
       "      <td>A-associated-items&lt;|endoftext|&gt;T-lang&lt;|endofte...</td>\n",
       "    </tr>\n",
       "    <tr>\n",
       "      <th>2</th>\n",
       "      <td>https://api.github.com/repos/rust-lang/rust/is...</td>\n",
       "      <td>https://api.github.com/repos/rust-lang/rust/is...</td>\n",
       "      <td>https://github.com/rust-lang/rust/issues/91971</td>\n",
       "      <td>T-lang&lt;|endoftext|&gt;T-libs-api&lt;|endoftext|&gt;C-tr...</td>\n",
       "    </tr>\n",
       "    <tr>\n",
       "      <th>3</th>\n",
       "      <td>https://api.github.com/repos/rust-lang/rust/is...</td>\n",
       "      <td>https://api.github.com/repos/rust-lang/rust/is...</td>\n",
       "      <td>https://github.com/rust-lang/rust/issues/89460</td>\n",
       "      <td>A-lint&lt;|endoftext|&gt;T-lang&lt;|endoftext|&gt;T-compil...</td>\n",
       "    </tr>\n",
       "    <tr>\n",
       "      <th>4</th>\n",
       "      <td>https://api.github.com/repos/rust-lang/rust/is...</td>\n",
       "      <td>https://api.github.com/repos/rust-lang/rust/is...</td>\n",
       "      <td>https://github.com/rust-lang/rust/issues/86555</td>\n",
       "      <td>B-RFC-approved&lt;|endoftext|&gt;T-lang&lt;|endoftext|&gt;...</td>\n",
       "    </tr>\n",
       "  </tbody>\n",
       "</table>\n",
       "</div>"
      ],
      "text/plain": [
       "                                                 url  \\\n",
       "0  https://api.github.com/repos/rust-lang/rust/is...   \n",
       "1  https://api.github.com/repos/rust-lang/rust/is...   \n",
       "2  https://api.github.com/repos/rust-lang/rust/is...   \n",
       "3  https://api.github.com/repos/rust-lang/rust/is...   \n",
       "4  https://api.github.com/repos/rust-lang/rust/is...   \n",
       "\n",
       "                                        comments_url  \\\n",
       "0  https://api.github.com/repos/rust-lang/rust/is...   \n",
       "1  https://api.github.com/repos/rust-lang/rust/is...   \n",
       "2  https://api.github.com/repos/rust-lang/rust/is...   \n",
       "3  https://api.github.com/repos/rust-lang/rust/is...   \n",
       "4  https://api.github.com/repos/rust-lang/rust/is...   \n",
       "\n",
       "                                         html_url  \\\n",
       "0  https://github.com/rust-lang/rust/issues/97362   \n",
       "1  https://github.com/rust-lang/rust/issues/92827   \n",
       "2  https://github.com/rust-lang/rust/issues/91971   \n",
       "3  https://github.com/rust-lang/rust/issues/89460   \n",
       "4  https://github.com/rust-lang/rust/issues/86555   \n",
       "\n",
       "                                              labels  \n",
       "0  T-lang<|endoftext|>C-tracking-issue<|endoftext...  \n",
       "1  A-associated-items<|endoftext|>T-lang<|endofte...  \n",
       "2  T-lang<|endoftext|>T-libs-api<|endoftext|>C-tr...  \n",
       "3  A-lint<|endoftext|>T-lang<|endoftext|>T-compil...  \n",
       "4  B-RFC-approved<|endoftext|>T-lang<|endoftext|>...  "
      ]
     },
     "execution_count": 15,
     "metadata": {},
     "output_type": "execute_result"
    }
   ],
   "source": [
    "df.head()"
   ]
  },
  {
   "cell_type": "markdown",
   "metadata": {},
   "source": [
    "## Collect issue comments"
   ]
  },
  {
   "cell_type": "code",
   "execution_count": 16,
   "metadata": {},
   "outputs": [],
   "source": [
    "def get_comments(url):\n",
    "    response = requests.get(url, headers=headers)\n",
    "    json_content = response.json()\n",
    "    comments = \"<|endoftext|>\".join([x[\"body\"] for x in json_content])\n",
    "\n",
    "    return comments\n",
    "\n",
    "df[\"comments\"] = df[\"comments_url\"].apply(get_comments)"
   ]
  },
  {
   "cell_type": "code",
   "execution_count": 17,
   "metadata": {},
   "outputs": [
    {
     "data": {
      "text/html": [
       "<div>\n",
       "<style scoped>\n",
       "    .dataframe tbody tr th:only-of-type {\n",
       "        vertical-align: middle;\n",
       "    }\n",
       "\n",
       "    .dataframe tbody tr th {\n",
       "        vertical-align: top;\n",
       "    }\n",
       "\n",
       "    .dataframe thead th {\n",
       "        text-align: right;\n",
       "    }\n",
       "</style>\n",
       "<table border=\"1\" class=\"dataframe\">\n",
       "  <thead>\n",
       "    <tr style=\"text-align: right;\">\n",
       "      <th></th>\n",
       "      <th>url</th>\n",
       "      <th>comments_url</th>\n",
       "      <th>html_url</th>\n",
       "      <th>labels</th>\n",
       "      <th>comments</th>\n",
       "    </tr>\n",
       "  </thead>\n",
       "  <tbody>\n",
       "    <tr>\n",
       "      <th>0</th>\n",
       "      <td>https://api.github.com/repos/rust-lang/rust/is...</td>\n",
       "      <td>https://api.github.com/repos/rust-lang/rust/is...</td>\n",
       "      <td>https://github.com/rust-lang/rust/issues/97362</td>\n",
       "      <td>T-lang&lt;|endoftext|&gt;C-tracking-issue&lt;|endoftext...</td>\n",
       "      <td>I'd like to work on implementing this 👀 \\r\\n\\r...</td>\n",
       "    </tr>\n",
       "    <tr>\n",
       "      <th>1</th>\n",
       "      <td>https://api.github.com/repos/rust-lang/rust/is...</td>\n",
       "      <td>https://api.github.com/repos/rust-lang/rust/is...</td>\n",
       "      <td>https://github.com/rust-lang/rust/issues/92827</td>\n",
       "      <td>A-associated-items&lt;|endoftext|&gt;T-lang&lt;|endofte...</td>\n",
       "      <td>Hello!\\r\\nIs there a corresponding RFC, or any...</td>\n",
       "    </tr>\n",
       "    <tr>\n",
       "      <th>2</th>\n",
       "      <td>https://api.github.com/repos/rust-lang/rust/is...</td>\n",
       "      <td>https://api.github.com/repos/rust-lang/rust/is...</td>\n",
       "      <td>https://github.com/rust-lang/rust/issues/91971</td>\n",
       "      <td>T-lang&lt;|endoftext|&gt;T-libs-api&lt;|endoftext|&gt;C-tr...</td>\n",
       "      <td>Context for labels applied: it sounds like we ...</td>\n",
       "    </tr>\n",
       "    <tr>\n",
       "      <th>3</th>\n",
       "      <td>https://api.github.com/repos/rust-lang/rust/is...</td>\n",
       "      <td>https://api.github.com/repos/rust-lang/rust/is...</td>\n",
       "      <td>https://github.com/rust-lang/rust/issues/89460</td>\n",
       "      <td>A-lint&lt;|endoftext|&gt;T-lang&lt;|endoftext|&gt;T-compil...</td>\n",
       "      <td>Could we get a more detailed summary of the ca...</td>\n",
       "    </tr>\n",
       "    <tr>\n",
       "      <th>4</th>\n",
       "      <td>https://api.github.com/repos/rust-lang/rust/is...</td>\n",
       "      <td>https://api.github.com/repos/rust-lang/rust/is...</td>\n",
       "      <td>https://github.com/rust-lang/rust/issues/86555</td>\n",
       "      <td>B-RFC-approved&lt;|endoftext|&gt;T-lang&lt;|endoftext|&gt;...</td>\n",
       "      <td>It looks like this has been implemented; are t...</td>\n",
       "    </tr>\n",
       "  </tbody>\n",
       "</table>\n",
       "</div>"
      ],
      "text/plain": [
       "                                                 url  \\\n",
       "0  https://api.github.com/repos/rust-lang/rust/is...   \n",
       "1  https://api.github.com/repos/rust-lang/rust/is...   \n",
       "2  https://api.github.com/repos/rust-lang/rust/is...   \n",
       "3  https://api.github.com/repos/rust-lang/rust/is...   \n",
       "4  https://api.github.com/repos/rust-lang/rust/is...   \n",
       "\n",
       "                                        comments_url  \\\n",
       "0  https://api.github.com/repos/rust-lang/rust/is...   \n",
       "1  https://api.github.com/repos/rust-lang/rust/is...   \n",
       "2  https://api.github.com/repos/rust-lang/rust/is...   \n",
       "3  https://api.github.com/repos/rust-lang/rust/is...   \n",
       "4  https://api.github.com/repos/rust-lang/rust/is...   \n",
       "\n",
       "                                         html_url  \\\n",
       "0  https://github.com/rust-lang/rust/issues/97362   \n",
       "1  https://github.com/rust-lang/rust/issues/92827   \n",
       "2  https://github.com/rust-lang/rust/issues/91971   \n",
       "3  https://github.com/rust-lang/rust/issues/89460   \n",
       "4  https://github.com/rust-lang/rust/issues/86555   \n",
       "\n",
       "                                              labels  \\\n",
       "0  T-lang<|endoftext|>C-tracking-issue<|endoftext...   \n",
       "1  A-associated-items<|endoftext|>T-lang<|endofte...   \n",
       "2  T-lang<|endoftext|>T-libs-api<|endoftext|>C-tr...   \n",
       "3  A-lint<|endoftext|>T-lang<|endoftext|>T-compil...   \n",
       "4  B-RFC-approved<|endoftext|>T-lang<|endoftext|>...   \n",
       "\n",
       "                                            comments  \n",
       "0  I'd like to work on implementing this 👀 \\r\\n\\r...  \n",
       "1  Hello!\\r\\nIs there a corresponding RFC, or any...  \n",
       "2  Context for labels applied: it sounds like we ...  \n",
       "3  Could we get a more detailed summary of the ca...  \n",
       "4  It looks like this has been implemented; are t...  "
      ]
     },
     "execution_count": 17,
     "metadata": {},
     "output_type": "execute_result"
    }
   ],
   "source": [
    "df.head()"
   ]
  },
  {
   "cell_type": "markdown",
   "metadata": {},
   "source": [
    "## Check"
   ]
  },
  {
   "cell_type": "code",
   "execution_count": 37,
   "metadata": {},
   "outputs": [
    {
     "data": {
      "text/markdown": [
       "************************************************************************************\n",
       "************************************************************************************\n",
       "************************************************************************************\n",
       "\n",
       "URL: https://api.github.com/repos/rust-lang/rust/issues/97362\n",
       "\n",
       "URL COMMENTS: https://api.github.com/repos/rust-lang/rust/issues/97362/comments\n",
       "\n",
       "URL HTML: https://github.com/rust-lang/rust/issues/97362\n",
       "\n",
       "LABELS: ['T-lang', 'C-tracking-issue', 'S-tracking-needs-summary', 'T-types', 'F-closure_lifetime_binder']\n",
       "\n",
       "COMMENTS:\n",
       "\n",
       "I'd like to work on implementing this 👀 \r\n",
       "\r\n",
       "@rustbot claim\n",
       "The implementation section needs to be updated to mention #98705.\n",
       "I bumped on this issue and I would like to share some code that maybe someone knowledgeable could comment on whether we are likely to get the features demonstrated or similar (in summary it's getting `for<>` for async closures):\r\n",
       "\r\n",
       "```rust\r\n",
       "#![feature(closure_lifetime_binder)]\r\n",
       "#![feature(trait_alias)]\r\n",
       "\r\n",
       "use core::future::Ready;\r\n",
       "use core::future::ready;\r\n",
       "use core::future::Future;\r\n",
       "\r\n",
       "// Don't read too much into the implementation of `S`\r\n",
       "struct S<'a>(&'a ());\r\n",
       "\r\n",
       "trait AsyncF<'a, F> = Fn(S<'a>) -> F where F: Future<Output = S<'a>>;\r\n",
       "async fn asyncF<F>(f: impl for<'a> AsyncF<'a, F>) {\r\n",
       "    let a = ();\r\n",
       "    f(S(&a)).await;\r\n",
       "}\r\n",
       "\r\n",
       "fn main() {\r\n",
       "    // We can't seem to do this because for<> does not seem to extend to the\r\n",
       "    // argument.\r\n",
       "    asyncF(for<'a> |x: S<'a>| -> Ready<S<'a>> {ready(x)});\r\n",
       "\r\n",
       "    \r\n",
       "    // Ideally we would like this to do anything useful with for<> and async.\r\n",
       "    // asyncF(for<'a> async move |x: &'a ()| -> &'a () {ready(x)});\r\n",
       "}\r\n",
       "```\r\n",
       "[playground](https://play.rust-lang.org/?version=nightly&mode=debug&edition=2021&gist=75475a141e376a2c0711ecac8461d20e)\n",
       "@fakedrake I think your `AsyncF`/`asyncF` are wrong. You are using a single `F` type, that is supposed to implement `for<'a> Future<Output = S<'a>>`, where in reality you have a `for<'a> F<'a>: Future<Output = S<'a>>` type.\r\n",
       "\r\n",
       "If you change the `AsyncF` trait to be something like the following:\r\n",
       "```rust\r\n",
       "trait AsyncF<'a, Input>: Fn(Input) -> Self::Future {\r\n",
       "    type Future: Future<Output = Self::Out>;\r\n",
       "    \r\n",
       "    type Out;\r\n",
       "}\r\n",
       "\r\n",
       "impl<'a, F, Fut, In> AsyncF<'a, In> for F\r\n",
       "where\r\n",
       "    F: Fn(In) -> Fut,\r\n",
       "    Fut: Future,\r\n",
       "{\r\n",
       "    type Future = Fut;\r\n",
       "    type Out = Fut::Output;\r\n",
       "}\r\n",
       "```\r\n",
       "Then your example [works](https://play.rust-lang.org/?version=nightly&mode=debug&edition=2021&gist=a0db8d120af26cbcab4e20dc309b4adc). Though I want to warn you that such traits are a pain to work with and especially extend.\r\n",
       "\r\n",
       "----\r\n",
       "\r\n",
       "As for `for<'a> async move |x: &'a ()| -> &'a ()` kind of thing, I think it generally desired, but was ruled out of the scope of the RFC. So, if we'll ever add it, it would first need its own RFC.\r\n",
       "\r\n",
       "It appears that async closures are currently in a very rough shape ([eg](https://github.com/rust-lang/rust/blob/b8c0a01b2b651416f5e7461209ff1a93a98619e4/compiler/rustc_ast_lowering/src/expr.rs#L962)) so a good place to start would probably be to fix/complete the implementation of async closures first.\n",
       "Thank you very much. I have seen people vaguely complaining about the primitive state of async closures but besides this niche case I have found that they have worked pretty well. Is there an issue tracking the problems with them?\n",
       "There is a tracking issue for async closures: #62290\n",
       "Found an ICE involving this feature: https://github.com/rust-lang/rust/issues/103736\r\n",
       "\r\n",
       "(Maybe we could use an `F-closure_lifetime_binder` tag?)\n",
       "Suggestion: could it be allowed to elide the return type of an explicitly higher-ranked closure when it is `()`? Currently, Rust allows eliding `()` returns in all other function signatures, even when nothing else can be elided.\n",
       "@Jules-Bertholet I don't think it's a good idea, we may want to allow inferring return type in the future, just like with normal closures.\n",
       "@WaffleLapkin \"Infer return type when it is `()`\" should be forward-compatible with \"infer return type always.\"\n",
       "@Jules-Bertholet oh, I misunderstood this as \"make `for<> || { some expression... }` return type always `()`, same as with normal function\". Inferring it is probably fine.\n",
       "It appears that this will not work well for returning closures as their type can not be explicitly specified as a closure return type. This is likely known but I think worth pointing it out. This will however work for return types that you can specify.\r\n",
       "\r\n",
       "```rust\r\n",
       "let f = for<'a> |a: &'a u8| -> impl 'a + Fn() -> &'a u8 {\r\n",
       "    || a\r\n",
       "};\r\n",
       "```\r\n",
       "\r\n",
       "```\r\n",
       "error[[E0562]](https://doc.rust-lang.org/nightly/error_codes/E0562.html): `impl Trait` only allowed in function and inherent method return types, not in closure return types\r\n",
       " --> src/main.rs:5:36\r\n",
       "  |\r\n",
       "5 |     let f = for<'a> |a: &'a u8| -> impl 'a + Fn() -> &'a u8 {\r\n",
       "  |                                    ^^^^^^^^^^^^^^^^^^^^^^^^\r\n",
       "```\r\n",
       "\r\n",
       "[Playground](https://play.rust-lang.org/?version=nightly&mode=debug&edition=2021&gist=7aa83bd601924e751507bc7062715256)\n",
       "@kevincox: I believe that is a general limitation of what return types you can write when declaring closures, and not related to this RFC."
      ],
      "text/plain": [
       "<IPython.core.display.Markdown object>"
      ]
     },
     "metadata": {},
     "output_type": "display_data"
    },
    {
     "data": {
      "text/markdown": [
       "************************************************************************************\n",
       "************************************************************************************\n",
       "************************************************************************************\n",
       "\n",
       "URL: https://api.github.com/repos/rust-lang/rust/issues/92827\n",
       "\n",
       "URL COMMENTS: https://api.github.com/repos/rust-lang/rust/issues/92827/comments\n",
       "\n",
       "URL HTML: https://github.com/rust-lang/rust/issues/92827\n",
       "\n",
       "LABELS: ['A-associated-items', 'T-lang', 'C-tracking-issue', 'A-const-generics', 'S-tracking-needs-summary', 'F-associated_const_equality']\n",
       "\n",
       "COMMENTS:\n",
       "\n",
       "Hello!\r\n",
       "Is there a corresponding RFC, or any context whatsoever concerning those changes ? \r\n",
       "This is the first occurrence of language syntax change that is not backed by RFC and community feedback\r\n",
       "@Centril @oli-obk \n",
       "Well, we have https://github.com/rust-lang/rust/issues/70256 which indeed has basically no discussion of the feature. It just seemed like an oversight to have associated types + associated type bounds, but only associated consts without any bounds for them. \n",
       "I probably should've tagged the original issue in this at the start (it was in the original PR if I remember correctly) but I'm bad at leaving a thorough paper trail. I'll add a reference to the original issue in the issue itself, and if there's more work that needs to be done please let know\n",
       "You did everything correctly. I found the issue because you did link it in the first sentence in this issue 😄\r\n",
       "\r\n",
       "We should probably do a lang team MCP for it along with some medium sized doc explaining what is going on and why. I'll open a hackmd and then we can collab on it\n",
       "What's the current state of this? How much is implemented, and how functional is it?\n",
       "@joshtriplett I've started work on it, and the syntax/parsing is in place, but the implementation currently does not work. I started working on Chalk, but that has stalled since I wasn't really able to know whether it was necessary for implementing it in rustc. I've also gotten a bit sidetracked working on other things.\n",
       "Is it planned to recognize Associated Constant Equality as disjoint cases?\r\n",
       "```rs\r\n",
       "trait Foo{\r\n",
       "    const DECIDER: bool;\r\n",
       "}\r\n",
       "trait Bar{ /*stuff*/ }\r\n",
       "impl<T: Foo<DECIDER = true>> Bar for T{ /*stuff*/ }\r\n",
       "impl<T: Foo<DECIDER = false>> Bar for T{ /*stuff*/ }\r\n",
       "```\n",
       "@rustbot label F-associated_const_equality\n",
       "@urben1680 I believe this would be the main point of this, but I have not got around to actually implementing it\n",
       "```rust\r\n",
       "pub struct ConstNum<const N: usize>;\r\n",
       "\r\n",
       "pub trait Is<const N: usize> {}\r\n",
       "\r\n",
       "impl<const N: usize> Is<N> for ConstNum<N> {}\r\n",
       "\r\n",
       "\r\n",
       "struct Bar<const N: usize>([u8; N]);\r\n",
       "\r\n",
       "fn foo<const N: usize>(_input: Bar<N>) where ConstNum<N>: Is<2> {\r\n",
       "    \r\n",
       "}\r\n",
       "\r\n",
       "fn main() {\r\n",
       "    foo(Bar([0u8; 2])); //works\r\n",
       "    foo(Bar([0u8; 3])); //doesn't\r\n",
       "}\r\n",
       "```\n",
       "Another use case would be checking tensor shapes. I hit this issue when compiling my code that constrains the shapes of input tensors to have the same dimensionality and/or rank. \r\n",
       "\r\n",
       "For example, dumb code like the below\r\n",
       "```rust\r\n",
       "pub trait TensorShape1D {\r\n",
       "    const SHAPE: usize;  // i.e. length\r\n",
       "}\r\n",
       "\r\n",
       "pub fn add<const L: usize, LEFT_TENSOR: TensorShape1D<SHAPE=L>, RIGHT_TENSOR: TensorShape1D<SHAPE=L>>(left: LEFT_TENSOR, right: RIGHT_TENSOR) {\r\n",
       "    todo!()\r\n",
       "}\r\n",
       "```\r\n",
       "Any two structs that implement `TensorShape1D` and have the same `SHAPE` can be the input of this function.\r\n",
       "\r\n",
       "Right now, I have to use `typenum` crate and associated type to do the same checking, but it would be great to not have to type-dance like `typenum`. I think when this is implemented, `typenum` can be greatly simplified.\n",
       "I am locking this, as it is a tracking issue. Please open a thread on zulip for discussions or open issues for any issues you encounter."
      ],
      "text/plain": [
       "<IPython.core.display.Markdown object>"
      ]
     },
     "metadata": {},
     "output_type": "display_data"
    },
    {
     "data": {
      "text/markdown": [
       "************************************************************************************\n",
       "************************************************************************************\n",
       "************************************************************************************\n",
       "\n",
       "URL: https://api.github.com/repos/rust-lang/rust/issues/91971\n",
       "\n",
       "URL COMMENTS: https://api.github.com/repos/rust-lang/rust/issues/91971/comments\n",
       "\n",
       "URL HTML: https://github.com/rust-lang/rust/issues/91971\n",
       "\n",
       "LABELS: ['T-lang', 'T-libs-api', 'C-tracking-issue', 'A-intrinsics', 'S-tracking-design-concerns', 'S-tracking-needs-summary']\n",
       "\n",
       "COMMENTS:\n",
       "\n",
       "Context for labels applied: it sounds like we need a summary of what precisely this means, as distinct from `align_of`, in a way that isn't tied to the LLVM backend."
      ],
      "text/plain": [
       "<IPython.core.display.Markdown object>"
      ]
     },
     "metadata": {},
     "output_type": "display_data"
    }
   ],
   "source": [
    "template = \"\"\"\n",
    "************************************************************************************\n",
    "************************************************************************************\n",
    "************************************************************************************\n",
    "\n",
    "URL: {url}\\n\n",
    "URL COMMENTS: {comments_url}\\n\n",
    "URL HTML: {html_url}\\n\n",
    "LABELS: {labels}\\n\n",
    "COMMENTS:\\n\n",
    "{comments}\n",
    "\\n\\n\n",
    "\"\"\".strip()\n",
    "\n",
    "for i, row in df[:3].iterrows():\n",
    "    labels = row[\"labels\"].split(\"<|endoftext|>\")\n",
    "    comments = row[\"comments\"].replace(\"<|endoftext|>\", \"\\n\")\n",
    "    display(Markdown(template.format(\n",
    "        url=row[\"url\"],\n",
    "        comments_url=row[\"comments_url\"],\n",
    "        html_url=row[\"html_url\"],\n",
    "        labels=labels,\n",
    "        comments=comments\n",
    "        ))\n",
    "    )"
   ]
  },
  {
   "cell_type": "markdown",
   "metadata": {},
   "source": [
    "## Upload on Hugging Face Hub"
   ]
  },
  {
   "cell_type": "code",
   "execution_count": 41,
   "metadata": {},
   "outputs": [
    {
     "data": {
      "application/vnd.jupyter.widget-view+json": {
       "model_id": "5eadeb9a485b44b98e70f7b1146a3be2",
       "version_major": 2,
       "version_minor": 0
      },
      "text/plain": [
       "VBox(children=(HTML(value='<center> <img\\nsrc=https://huggingface.co/front/assets/huggingface_logo-noborder.sv…"
      ]
     },
     "metadata": {},
     "output_type": "display_data"
    }
   ],
   "source": [
    "from huggingface_hub import login\n",
    "\n",
    "login()"
   ]
  },
  {
   "cell_type": "code",
   "execution_count": 46,
   "metadata": {},
   "outputs": [
    {
     "data": {
      "text/plain": [
       "Dataset({\n",
       "    features: ['url', 'comments_url', 'html_url', 'labels', 'comments'],\n",
       "    num_rows: 52\n",
       "})"
      ]
     },
     "execution_count": 46,
     "metadata": {},
     "output_type": "execute_result"
    }
   ],
   "source": [
    "hfdf = Dataset.from_pandas(df)\n",
    "hfdf"
   ]
  },
  {
   "cell_type": "code",
   "execution_count": 53,
   "metadata": {},
   "outputs": [
    {
     "data": {
      "text/plain": [
       "{'url': 'https://api.github.com/repos/rust-lang/rust/issues/97362',\n",
       " 'comments_url': 'https://api.github.com/repos/rust-lang/rust/issues/97362/comments',\n",
       " 'html_url': 'https://github.com/rust-lang/rust/issues/97362',\n",
       " 'labels': 'T-lang<|endoftext|>C-tracking-issue<|endoftext|>S-tracking-needs-summary<|endoftext|>T-types<|endoftext|>F-closure_lifetime_binder',\n",
       " 'comments': 'I\\'d like to work on implementing this 👀 \\r\\n\\r\\n@rustbot claim<|endoftext|>The implementation section needs to be updated to mention #98705.<|endoftext|>I bumped on this issue and I would like to share some code that maybe someone knowledgeable could comment on whether we are likely to get the features demonstrated or similar (in summary it\\'s getting `for<>` for async closures):\\r\\n\\r\\n```rust\\r\\n#![feature(closure_lifetime_binder)]\\r\\n#![feature(trait_alias)]\\r\\n\\r\\nuse core::future::Ready;\\r\\nuse core::future::ready;\\r\\nuse core::future::Future;\\r\\n\\r\\n// Don\\'t read too much into the implementation of `S`\\r\\nstruct S<\\'a>(&\\'a ());\\r\\n\\r\\ntrait AsyncF<\\'a, F> = Fn(S<\\'a>) -> F where F: Future<Output = S<\\'a>>;\\r\\nasync fn asyncF<F>(f: impl for<\\'a> AsyncF<\\'a, F>) {\\r\\n    let a = ();\\r\\n    f(S(&a)).await;\\r\\n}\\r\\n\\r\\nfn main() {\\r\\n    // We can\\'t seem to do this because for<> does not seem to extend to the\\r\\n    // argument.\\r\\n    asyncF(for<\\'a> |x: S<\\'a>| -> Ready<S<\\'a>> {ready(x)});\\r\\n\\r\\n    \\r\\n    // Ideally we would like this to do anything useful with for<> and async.\\r\\n    // asyncF(for<\\'a> async move |x: &\\'a ()| -> &\\'a () {ready(x)});\\r\\n}\\r\\n```\\r\\n[playground](https://play.rust-lang.org/?version=nightly&mode=debug&edition=2021&gist=75475a141e376a2c0711ecac8461d20e)<|endoftext|>@fakedrake I think your `AsyncF`/`asyncF` are wrong. You are using a single `F` type, that is supposed to implement `for<\\'a> Future<Output = S<\\'a>>`, where in reality you have a `for<\\'a> F<\\'a>: Future<Output = S<\\'a>>` type.\\r\\n\\r\\nIf you change the `AsyncF` trait to be something like the following:\\r\\n```rust\\r\\ntrait AsyncF<\\'a, Input>: Fn(Input) -> Self::Future {\\r\\n    type Future: Future<Output = Self::Out>;\\r\\n    \\r\\n    type Out;\\r\\n}\\r\\n\\r\\nimpl<\\'a, F, Fut, In> AsyncF<\\'a, In> for F\\r\\nwhere\\r\\n    F: Fn(In) -> Fut,\\r\\n    Fut: Future,\\r\\n{\\r\\n    type Future = Fut;\\r\\n    type Out = Fut::Output;\\r\\n}\\r\\n```\\r\\nThen your example [works](https://play.rust-lang.org/?version=nightly&mode=debug&edition=2021&gist=a0db8d120af26cbcab4e20dc309b4adc). Though I want to warn you that such traits are a pain to work with and especially extend.\\r\\n\\r\\n----\\r\\n\\r\\nAs for `for<\\'a> async move |x: &\\'a ()| -> &\\'a ()` kind of thing, I think it generally desired, but was ruled out of the scope of the RFC. So, if we\\'ll ever add it, it would first need its own RFC.\\r\\n\\r\\nIt appears that async closures are currently in a very rough shape ([eg](https://github.com/rust-lang/rust/blob/b8c0a01b2b651416f5e7461209ff1a93a98619e4/compiler/rustc_ast_lowering/src/expr.rs#L962)) so a good place to start would probably be to fix/complete the implementation of async closures first.<|endoftext|>Thank you very much. I have seen people vaguely complaining about the primitive state of async closures but besides this niche case I have found that they have worked pretty well. Is there an issue tracking the problems with them?<|endoftext|>There is a tracking issue for async closures: #62290<|endoftext|>Found an ICE involving this feature: https://github.com/rust-lang/rust/issues/103736\\r\\n\\r\\n(Maybe we could use an `F-closure_lifetime_binder` tag?)<|endoftext|>Suggestion: could it be allowed to elide the return type of an explicitly higher-ranked closure when it is `()`? Currently, Rust allows eliding `()` returns in all other function signatures, even when nothing else can be elided.<|endoftext|>@Jules-Bertholet I don\\'t think it\\'s a good idea, we may want to allow inferring return type in the future, just like with normal closures.<|endoftext|>@WaffleLapkin \"Infer return type when it is `()`\" should be forward-compatible with \"infer return type always.\"<|endoftext|>@Jules-Bertholet oh, I misunderstood this as \"make `for<> || { some expression... }` return type always `()`, same as with normal function\". Inferring it is probably fine.<|endoftext|>It appears that this will not work well for returning closures as their type can not be explicitly specified as a closure return type. This is likely known but I think worth pointing it out. This will however work for return types that you can specify.\\r\\n\\r\\n```rust\\r\\nlet f = for<\\'a> |a: &\\'a u8| -> impl \\'a + Fn() -> &\\'a u8 {\\r\\n    || a\\r\\n};\\r\\n```\\r\\n\\r\\n```\\r\\nerror[[E0562]](https://doc.rust-lang.org/nightly/error_codes/E0562.html): `impl Trait` only allowed in function and inherent method return types, not in closure return types\\r\\n --> src/main.rs:5:36\\r\\n  |\\r\\n5 |     let f = for<\\'a> |a: &\\'a u8| -> impl \\'a + Fn() -> &\\'a u8 {\\r\\n  |                                    ^^^^^^^^^^^^^^^^^^^^^^^^\\r\\n```\\r\\n\\r\\n[Playground](https://play.rust-lang.org/?version=nightly&mode=debug&edition=2021&gist=7aa83bd601924e751507bc7062715256)<|endoftext|>@kevincox: I believe that is a general limitation of what return types you can write when declaring closures, and not related to this RFC.'}"
      ]
     },
     "execution_count": 53,
     "metadata": {},
     "output_type": "execute_result"
    }
   ],
   "source": [
    "hfdf[0]"
   ]
  },
  {
   "cell_type": "code",
   "execution_count": 55,
   "metadata": {},
   "outputs": [
    {
     "data": {
      "application/vnd.jupyter.widget-view+json": {
       "model_id": "cb7f7112b09c49cd889acecfd79767e7",
       "version_major": 2,
       "version_minor": 0
      },
      "text/plain": [
       "Pushing dataset shards to the dataset hub:   0%|          | 0/1 [00:00<?, ?it/s]"
      ]
     },
     "metadata": {},
     "output_type": "display_data"
    },
    {
     "data": {
      "application/vnd.jupyter.widget-view+json": {
       "model_id": "f78bb180138b4273a09f2f1ca0f1848e",
       "version_major": 2,
       "version_minor": 0
      },
      "text/plain": [
       "Creating parquet from Arrow format:   0%|          | 0/1 [00:00<?, ?ba/s]"
      ]
     },
     "metadata": {},
     "output_type": "display_data"
    }
   ],
   "source": [
    "hfdf.push_to_hub(\"matteopilotto/rust-github-issues\")"
   ]
  },
  {
   "cell_type": "markdown",
   "metadata": {},
   "source": [
    "## Load dataset from the Hub"
   ]
  },
  {
   "cell_type": "code",
   "execution_count": 58,
   "metadata": {},
   "outputs": [
    {
     "data": {
      "text/plain": [
       "DatasetDict({\n",
       "    train: Dataset({\n",
       "        features: ['url', 'comments_url', 'html_url', 'labels', 'comments'],\n",
       "        num_rows: 52\n",
       "    })\n",
       "})"
      ]
     },
     "execution_count": 58,
     "metadata": {},
     "output_type": "execute_result"
    }
   ],
   "source": [
    "from datasets import load_dataset\n",
    "\n",
    "hfdf_loaded = load_dataset(\"matteopilotto/rust-github-issues\")\n",
    "hfdf_loaded"
   ]
  },
  {
   "cell_type": "code",
   "execution_count": 59,
   "metadata": {},
   "outputs": [],
   "source": [
    "df_loaded = hfdf_loaded[\"train\"].to_pandas()"
   ]
  },
  {
   "cell_type": "code",
   "execution_count": 60,
   "metadata": {},
   "outputs": [
    {
     "data": {
      "text/html": [
       "<div>\n",
       "<style scoped>\n",
       "    .dataframe tbody tr th:only-of-type {\n",
       "        vertical-align: middle;\n",
       "    }\n",
       "\n",
       "    .dataframe tbody tr th {\n",
       "        vertical-align: top;\n",
       "    }\n",
       "\n",
       "    .dataframe thead th {\n",
       "        text-align: right;\n",
       "    }\n",
       "</style>\n",
       "<table border=\"1\" class=\"dataframe\">\n",
       "  <thead>\n",
       "    <tr style=\"text-align: right;\">\n",
       "      <th></th>\n",
       "      <th>url</th>\n",
       "      <th>comments_url</th>\n",
       "      <th>html_url</th>\n",
       "      <th>labels</th>\n",
       "      <th>comments</th>\n",
       "    </tr>\n",
       "  </thead>\n",
       "  <tbody>\n",
       "    <tr>\n",
       "      <th>0</th>\n",
       "      <td>https://api.github.com/repos/rust-lang/rust/is...</td>\n",
       "      <td>https://api.github.com/repos/rust-lang/rust/is...</td>\n",
       "      <td>https://github.com/rust-lang/rust/issues/97362</td>\n",
       "      <td>T-lang&lt;|endoftext|&gt;C-tracking-issue&lt;|endoftext...</td>\n",
       "      <td>I'd like to work on implementing this 👀 \\r\\n\\r...</td>\n",
       "    </tr>\n",
       "    <tr>\n",
       "      <th>1</th>\n",
       "      <td>https://api.github.com/repos/rust-lang/rust/is...</td>\n",
       "      <td>https://api.github.com/repos/rust-lang/rust/is...</td>\n",
       "      <td>https://github.com/rust-lang/rust/issues/92827</td>\n",
       "      <td>A-associated-items&lt;|endoftext|&gt;T-lang&lt;|endofte...</td>\n",
       "      <td>Hello!\\r\\nIs there a corresponding RFC, or any...</td>\n",
       "    </tr>\n",
       "    <tr>\n",
       "      <th>2</th>\n",
       "      <td>https://api.github.com/repos/rust-lang/rust/is...</td>\n",
       "      <td>https://api.github.com/repos/rust-lang/rust/is...</td>\n",
       "      <td>https://github.com/rust-lang/rust/issues/91971</td>\n",
       "      <td>T-lang&lt;|endoftext|&gt;T-libs-api&lt;|endoftext|&gt;C-tr...</td>\n",
       "      <td>Context for labels applied: it sounds like we ...</td>\n",
       "    </tr>\n",
       "    <tr>\n",
       "      <th>3</th>\n",
       "      <td>https://api.github.com/repos/rust-lang/rust/is...</td>\n",
       "      <td>https://api.github.com/repos/rust-lang/rust/is...</td>\n",
       "      <td>https://github.com/rust-lang/rust/issues/89460</td>\n",
       "      <td>A-lint&lt;|endoftext|&gt;T-lang&lt;|endoftext|&gt;T-compil...</td>\n",
       "      <td>Could we get a more detailed summary of the ca...</td>\n",
       "    </tr>\n",
       "    <tr>\n",
       "      <th>4</th>\n",
       "      <td>https://api.github.com/repos/rust-lang/rust/is...</td>\n",
       "      <td>https://api.github.com/repos/rust-lang/rust/is...</td>\n",
       "      <td>https://github.com/rust-lang/rust/issues/86555</td>\n",
       "      <td>B-RFC-approved&lt;|endoftext|&gt;T-lang&lt;|endoftext|&gt;...</td>\n",
       "      <td>It looks like this has been implemented; are t...</td>\n",
       "    </tr>\n",
       "  </tbody>\n",
       "</table>\n",
       "</div>"
      ],
      "text/plain": [
       "                                                 url  \\\n",
       "0  https://api.github.com/repos/rust-lang/rust/is...   \n",
       "1  https://api.github.com/repos/rust-lang/rust/is...   \n",
       "2  https://api.github.com/repos/rust-lang/rust/is...   \n",
       "3  https://api.github.com/repos/rust-lang/rust/is...   \n",
       "4  https://api.github.com/repos/rust-lang/rust/is...   \n",
       "\n",
       "                                        comments_url  \\\n",
       "0  https://api.github.com/repos/rust-lang/rust/is...   \n",
       "1  https://api.github.com/repos/rust-lang/rust/is...   \n",
       "2  https://api.github.com/repos/rust-lang/rust/is...   \n",
       "3  https://api.github.com/repos/rust-lang/rust/is...   \n",
       "4  https://api.github.com/repos/rust-lang/rust/is...   \n",
       "\n",
       "                                         html_url  \\\n",
       "0  https://github.com/rust-lang/rust/issues/97362   \n",
       "1  https://github.com/rust-lang/rust/issues/92827   \n",
       "2  https://github.com/rust-lang/rust/issues/91971   \n",
       "3  https://github.com/rust-lang/rust/issues/89460   \n",
       "4  https://github.com/rust-lang/rust/issues/86555   \n",
       "\n",
       "                                              labels  \\\n",
       "0  T-lang<|endoftext|>C-tracking-issue<|endoftext...   \n",
       "1  A-associated-items<|endoftext|>T-lang<|endofte...   \n",
       "2  T-lang<|endoftext|>T-libs-api<|endoftext|>C-tr...   \n",
       "3  A-lint<|endoftext|>T-lang<|endoftext|>T-compil...   \n",
       "4  B-RFC-approved<|endoftext|>T-lang<|endoftext|>...   \n",
       "\n",
       "                                            comments  \n",
       "0  I'd like to work on implementing this 👀 \\r\\n\\r...  \n",
       "1  Hello!\\r\\nIs there a corresponding RFC, or any...  \n",
       "2  Context for labels applied: it sounds like we ...  \n",
       "3  Could we get a more detailed summary of the ca...  \n",
       "4  It looks like this has been implemented; are t...  "
      ]
     },
     "execution_count": 60,
     "metadata": {},
     "output_type": "execute_result"
    }
   ],
   "source": [
    "df_loaded.head()"
   ]
  },
  {
   "cell_type": "markdown",
   "metadata": {},
   "source": [
    "## Check data loaded from the Hub"
   ]
  },
  {
   "cell_type": "code",
   "execution_count": 62,
   "metadata": {},
   "outputs": [
    {
     "data": {
      "text/markdown": [
       "************************************************************************************\n",
       "************************************************************************************\n",
       "************************************************************************************\n",
       "\n",
       "URL: https://api.github.com/repos/rust-lang/rust/issues/97362\n",
       "\n",
       "URL COMMENTS: https://api.github.com/repos/rust-lang/rust/issues/97362/comments\n",
       "\n",
       "URL HTML: https://github.com/rust-lang/rust/issues/97362\n",
       "\n",
       "LABELS: ['T-lang', 'C-tracking-issue', 'S-tracking-needs-summary', 'T-types', 'F-closure_lifetime_binder']\n",
       "\n",
       "COMMENTS:\n",
       "\n",
       "I'd like to work on implementing this 👀 \r\n",
       "\r\n",
       "@rustbot claim\n",
       "The implementation section needs to be updated to mention #98705.\n",
       "I bumped on this issue and I would like to share some code that maybe someone knowledgeable could comment on whether we are likely to get the features demonstrated or similar (in summary it's getting `for<>` for async closures):\r\n",
       "\r\n",
       "```rust\r\n",
       "#![feature(closure_lifetime_binder)]\r\n",
       "#![feature(trait_alias)]\r\n",
       "\r\n",
       "use core::future::Ready;\r\n",
       "use core::future::ready;\r\n",
       "use core::future::Future;\r\n",
       "\r\n",
       "// Don't read too much into the implementation of `S`\r\n",
       "struct S<'a>(&'a ());\r\n",
       "\r\n",
       "trait AsyncF<'a, F> = Fn(S<'a>) -> F where F: Future<Output = S<'a>>;\r\n",
       "async fn asyncF<F>(f: impl for<'a> AsyncF<'a, F>) {\r\n",
       "    let a = ();\r\n",
       "    f(S(&a)).await;\r\n",
       "}\r\n",
       "\r\n",
       "fn main() {\r\n",
       "    // We can't seem to do this because for<> does not seem to extend to the\r\n",
       "    // argument.\r\n",
       "    asyncF(for<'a> |x: S<'a>| -> Ready<S<'a>> {ready(x)});\r\n",
       "\r\n",
       "    \r\n",
       "    // Ideally we would like this to do anything useful with for<> and async.\r\n",
       "    // asyncF(for<'a> async move |x: &'a ()| -> &'a () {ready(x)});\r\n",
       "}\r\n",
       "```\r\n",
       "[playground](https://play.rust-lang.org/?version=nightly&mode=debug&edition=2021&gist=75475a141e376a2c0711ecac8461d20e)\n",
       "@fakedrake I think your `AsyncF`/`asyncF` are wrong. You are using a single `F` type, that is supposed to implement `for<'a> Future<Output = S<'a>>`, where in reality you have a `for<'a> F<'a>: Future<Output = S<'a>>` type.\r\n",
       "\r\n",
       "If you change the `AsyncF` trait to be something like the following:\r\n",
       "```rust\r\n",
       "trait AsyncF<'a, Input>: Fn(Input) -> Self::Future {\r\n",
       "    type Future: Future<Output = Self::Out>;\r\n",
       "    \r\n",
       "    type Out;\r\n",
       "}\r\n",
       "\r\n",
       "impl<'a, F, Fut, In> AsyncF<'a, In> for F\r\n",
       "where\r\n",
       "    F: Fn(In) -> Fut,\r\n",
       "    Fut: Future,\r\n",
       "{\r\n",
       "    type Future = Fut;\r\n",
       "    type Out = Fut::Output;\r\n",
       "}\r\n",
       "```\r\n",
       "Then your example [works](https://play.rust-lang.org/?version=nightly&mode=debug&edition=2021&gist=a0db8d120af26cbcab4e20dc309b4adc). Though I want to warn you that such traits are a pain to work with and especially extend.\r\n",
       "\r\n",
       "----\r\n",
       "\r\n",
       "As for `for<'a> async move |x: &'a ()| -> &'a ()` kind of thing, I think it generally desired, but was ruled out of the scope of the RFC. So, if we'll ever add it, it would first need its own RFC.\r\n",
       "\r\n",
       "It appears that async closures are currently in a very rough shape ([eg](https://github.com/rust-lang/rust/blob/b8c0a01b2b651416f5e7461209ff1a93a98619e4/compiler/rustc_ast_lowering/src/expr.rs#L962)) so a good place to start would probably be to fix/complete the implementation of async closures first.\n",
       "Thank you very much. I have seen people vaguely complaining about the primitive state of async closures but besides this niche case I have found that they have worked pretty well. Is there an issue tracking the problems with them?\n",
       "There is a tracking issue for async closures: #62290\n",
       "Found an ICE involving this feature: https://github.com/rust-lang/rust/issues/103736\r\n",
       "\r\n",
       "(Maybe we could use an `F-closure_lifetime_binder` tag?)\n",
       "Suggestion: could it be allowed to elide the return type of an explicitly higher-ranked closure when it is `()`? Currently, Rust allows eliding `()` returns in all other function signatures, even when nothing else can be elided.\n",
       "@Jules-Bertholet I don't think it's a good idea, we may want to allow inferring return type in the future, just like with normal closures.\n",
       "@WaffleLapkin \"Infer return type when it is `()`\" should be forward-compatible with \"infer return type always.\"\n",
       "@Jules-Bertholet oh, I misunderstood this as \"make `for<> || { some expression... }` return type always `()`, same as with normal function\". Inferring it is probably fine.\n",
       "It appears that this will not work well for returning closures as their type can not be explicitly specified as a closure return type. This is likely known but I think worth pointing it out. This will however work for return types that you can specify.\r\n",
       "\r\n",
       "```rust\r\n",
       "let f = for<'a> |a: &'a u8| -> impl 'a + Fn() -> &'a u8 {\r\n",
       "    || a\r\n",
       "};\r\n",
       "```\r\n",
       "\r\n",
       "```\r\n",
       "error[[E0562]](https://doc.rust-lang.org/nightly/error_codes/E0562.html): `impl Trait` only allowed in function and inherent method return types, not in closure return types\r\n",
       " --> src/main.rs:5:36\r\n",
       "  |\r\n",
       "5 |     let f = for<'a> |a: &'a u8| -> impl 'a + Fn() -> &'a u8 {\r\n",
       "  |                                    ^^^^^^^^^^^^^^^^^^^^^^^^\r\n",
       "```\r\n",
       "\r\n",
       "[Playground](https://play.rust-lang.org/?version=nightly&mode=debug&edition=2021&gist=7aa83bd601924e751507bc7062715256)\n",
       "@kevincox: I believe that is a general limitation of what return types you can write when declaring closures, and not related to this RFC."
      ],
      "text/plain": [
       "<IPython.core.display.Markdown object>"
      ]
     },
     "metadata": {},
     "output_type": "display_data"
    },
    {
     "data": {
      "text/markdown": [
       "************************************************************************************\n",
       "************************************************************************************\n",
       "************************************************************************************\n",
       "\n",
       "URL: https://api.github.com/repos/rust-lang/rust/issues/92827\n",
       "\n",
       "URL COMMENTS: https://api.github.com/repos/rust-lang/rust/issues/92827/comments\n",
       "\n",
       "URL HTML: https://github.com/rust-lang/rust/issues/92827\n",
       "\n",
       "LABELS: ['A-associated-items', 'T-lang', 'C-tracking-issue', 'A-const-generics', 'S-tracking-needs-summary', 'F-associated_const_equality']\n",
       "\n",
       "COMMENTS:\n",
       "\n",
       "Hello!\r\n",
       "Is there a corresponding RFC, or any context whatsoever concerning those changes ? \r\n",
       "This is the first occurrence of language syntax change that is not backed by RFC and community feedback\r\n",
       "@Centril @oli-obk \n",
       "Well, we have https://github.com/rust-lang/rust/issues/70256 which indeed has basically no discussion of the feature. It just seemed like an oversight to have associated types + associated type bounds, but only associated consts without any bounds for them. \n",
       "I probably should've tagged the original issue in this at the start (it was in the original PR if I remember correctly) but I'm bad at leaving a thorough paper trail. I'll add a reference to the original issue in the issue itself, and if there's more work that needs to be done please let know\n",
       "You did everything correctly. I found the issue because you did link it in the first sentence in this issue 😄\r\n",
       "\r\n",
       "We should probably do a lang team MCP for it along with some medium sized doc explaining what is going on and why. I'll open a hackmd and then we can collab on it\n",
       "What's the current state of this? How much is implemented, and how functional is it?\n",
       "@joshtriplett I've started work on it, and the syntax/parsing is in place, but the implementation currently does not work. I started working on Chalk, but that has stalled since I wasn't really able to know whether it was necessary for implementing it in rustc. I've also gotten a bit sidetracked working on other things.\n",
       "Is it planned to recognize Associated Constant Equality as disjoint cases?\r\n",
       "```rs\r\n",
       "trait Foo{\r\n",
       "    const DECIDER: bool;\r\n",
       "}\r\n",
       "trait Bar{ /*stuff*/ }\r\n",
       "impl<T: Foo<DECIDER = true>> Bar for T{ /*stuff*/ }\r\n",
       "impl<T: Foo<DECIDER = false>> Bar for T{ /*stuff*/ }\r\n",
       "```\n",
       "@rustbot label F-associated_const_equality\n",
       "@urben1680 I believe this would be the main point of this, but I have not got around to actually implementing it\n",
       "```rust\r\n",
       "pub struct ConstNum<const N: usize>;\r\n",
       "\r\n",
       "pub trait Is<const N: usize> {}\r\n",
       "\r\n",
       "impl<const N: usize> Is<N> for ConstNum<N> {}\r\n",
       "\r\n",
       "\r\n",
       "struct Bar<const N: usize>([u8; N]);\r\n",
       "\r\n",
       "fn foo<const N: usize>(_input: Bar<N>) where ConstNum<N>: Is<2> {\r\n",
       "    \r\n",
       "}\r\n",
       "\r\n",
       "fn main() {\r\n",
       "    foo(Bar([0u8; 2])); //works\r\n",
       "    foo(Bar([0u8; 3])); //doesn't\r\n",
       "}\r\n",
       "```\n",
       "Another use case would be checking tensor shapes. I hit this issue when compiling my code that constrains the shapes of input tensors to have the same dimensionality and/or rank. \r\n",
       "\r\n",
       "For example, dumb code like the below\r\n",
       "```rust\r\n",
       "pub trait TensorShape1D {\r\n",
       "    const SHAPE: usize;  // i.e. length\r\n",
       "}\r\n",
       "\r\n",
       "pub fn add<const L: usize, LEFT_TENSOR: TensorShape1D<SHAPE=L>, RIGHT_TENSOR: TensorShape1D<SHAPE=L>>(left: LEFT_TENSOR, right: RIGHT_TENSOR) {\r\n",
       "    todo!()\r\n",
       "}\r\n",
       "```\r\n",
       "Any two structs that implement `TensorShape1D` and have the same `SHAPE` can be the input of this function.\r\n",
       "\r\n",
       "Right now, I have to use `typenum` crate and associated type to do the same checking, but it would be great to not have to type-dance like `typenum`. I think when this is implemented, `typenum` can be greatly simplified.\n",
       "I am locking this, as it is a tracking issue. Please open a thread on zulip for discussions or open issues for any issues you encounter."
      ],
      "text/plain": [
       "<IPython.core.display.Markdown object>"
      ]
     },
     "metadata": {},
     "output_type": "display_data"
    },
    {
     "data": {
      "text/markdown": [
       "************************************************************************************\n",
       "************************************************************************************\n",
       "************************************************************************************\n",
       "\n",
       "URL: https://api.github.com/repos/rust-lang/rust/issues/91971\n",
       "\n",
       "URL COMMENTS: https://api.github.com/repos/rust-lang/rust/issues/91971/comments\n",
       "\n",
       "URL HTML: https://github.com/rust-lang/rust/issues/91971\n",
       "\n",
       "LABELS: ['T-lang', 'T-libs-api', 'C-tracking-issue', 'A-intrinsics', 'S-tracking-design-concerns', 'S-tracking-needs-summary']\n",
       "\n",
       "COMMENTS:\n",
       "\n",
       "Context for labels applied: it sounds like we need a summary of what precisely this means, as distinct from `align_of`, in a way that isn't tied to the LLVM backend."
      ],
      "text/plain": [
       "<IPython.core.display.Markdown object>"
      ]
     },
     "metadata": {},
     "output_type": "display_data"
    }
   ],
   "source": [
    "template = \"\"\"\n",
    "************************************************************************************\n",
    "************************************************************************************\n",
    "************************************************************************************\n",
    "\n",
    "URL: {url}\\n\n",
    "URL COMMENTS: {comments_url}\\n\n",
    "URL HTML: {html_url}\\n\n",
    "LABELS: {labels}\\n\n",
    "COMMENTS:\\n\n",
    "{comments}\n",
    "\\n\\n\n",
    "\"\"\".strip()\n",
    "\n",
    "for i, row in df_loaded[:3].iterrows():\n",
    "    labels = row[\"labels\"].split(\"<|endoftext|>\")\n",
    "    comments = row[\"comments\"].replace(\"<|endoftext|>\", \"\\n\")\n",
    "    display(Markdown(template.format(\n",
    "        url=row[\"url\"],\n",
    "        comments_url=row[\"comments_url\"],\n",
    "        html_url=row[\"html_url\"],\n",
    "        labels=labels,\n",
    "        comments=comments\n",
    "        ))\n",
    "    )"
   ]
  }
 ],
 "metadata": {
  "kernelspec": {
   "display_name": "scrape",
   "language": "python",
   "name": "python3"
  },
  "language_info": {
   "codemirror_mode": {
    "name": "ipython",
    "version": 3
   },
   "file_extension": ".py",
   "mimetype": "text/x-python",
   "name": "python",
   "nbconvert_exporter": "python",
   "pygments_lexer": "ipython3",
   "version": "3.11.4"
  },
  "orig_nbformat": 4
 },
 "nbformat": 4,
 "nbformat_minor": 2
}
